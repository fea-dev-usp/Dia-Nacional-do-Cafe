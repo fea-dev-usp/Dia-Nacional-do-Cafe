{
 "cells": [
  {
   "cell_type": "markdown",
   "metadata": {},
   "source": [
    "# Importação e Tratamento dos Dados"
   ]
  },
  {
   "cell_type": "code",
   "execution_count": 242,
   "metadata": {},
   "outputs": [
    {
     "name": "stdout",
     "output_type": "stream",
     "text": [
      "<class 'pandas.core.frame.DataFrame'>\n",
      "RangeIndex: 55 entries, 0 to 54\n",
      "Data columns (total 33 columns):\n",
      " #   Column                      Non-Null Count  Dtype \n",
      "---  ------                      --------------  ----- \n",
      " 0   Country                     55 non-null     object\n",
      " 1   Coffee type                 55 non-null     object\n",
      " 2   1990/91                     55 non-null     int64 \n",
      " 3   1991/92                     55 non-null     int64 \n",
      " 4   1992/93                     55 non-null     int64 \n",
      " 5   1993/94                     55 non-null     int64 \n",
      " 6   1994/95                     55 non-null     int64 \n",
      " 7   1995/96                     55 non-null     int64 \n",
      " 8   1996/97                     55 non-null     int64 \n",
      " 9   1997/98                     55 non-null     int64 \n",
      " 10  1998/99                     55 non-null     int64 \n",
      " 11  1999/00                     55 non-null     int64 \n",
      " 12  2000/01                     55 non-null     int64 \n",
      " 13  2001/02                     55 non-null     int64 \n",
      " 14  2002/03                     55 non-null     int64 \n",
      " 15  2003/04                     55 non-null     int64 \n",
      " 16  2004/05                     55 non-null     int64 \n",
      " 17  2005/06                     55 non-null     int64 \n",
      " 18  2006/07                     55 non-null     int64 \n",
      " 19  2007/08                     55 non-null     int64 \n",
      " 20  2008/09                     55 non-null     int64 \n",
      " 21  2009/10                     55 non-null     int64 \n",
      " 22  2010/11                     55 non-null     int64 \n",
      " 23  2011/12                     55 non-null     int64 \n",
      " 24  2012/13                     55 non-null     int64 \n",
      " 25  2013/14                     55 non-null     int64 \n",
      " 26  2014/15                     55 non-null     int64 \n",
      " 27  2015/16                     55 non-null     int64 \n",
      " 28  2016/17                     55 non-null     int64 \n",
      " 29  2017/18                     55 non-null     int64 \n",
      " 30  2018/19                     55 non-null     int64 \n",
      " 31  2019/20                     55 non-null     int64 \n",
      " 32  Total_domestic_consumption  55 non-null     int64 \n",
      "dtypes: int64(31), object(2)\n",
      "memory usage: 14.3+ KB\n",
      "None\n",
      "<class 'pandas.core.frame.DataFrame'>\n",
      "RangeIndex: 55 entries, 0 to 54\n",
      "Data columns (total 32 columns):\n",
      " #   Column        Non-Null Count  Dtype \n",
      "---  ------        --------------  ----- \n",
      " 0   Country       55 non-null     object\n",
      " 1   1990          55 non-null     int64 \n",
      " 2   1991          55 non-null     int64 \n",
      " 3   1992          55 non-null     int64 \n",
      " 4   1993          55 non-null     int64 \n",
      " 5   1994          55 non-null     int64 \n",
      " 6   1995          55 non-null     int64 \n",
      " 7   1996          55 non-null     int64 \n",
      " 8   1997          55 non-null     int64 \n",
      " 9   1998          55 non-null     int64 \n",
      " 10  1999          55 non-null     int64 \n",
      " 11  2000          55 non-null     int64 \n",
      " 12  2001          55 non-null     int64 \n",
      " 13  2002          55 non-null     int64 \n",
      " 14  2003          55 non-null     int64 \n",
      " 15  2004          55 non-null     int64 \n",
      " 16  2005          55 non-null     int64 \n",
      " 17  2006          55 non-null     int64 \n",
      " 18  2007          55 non-null     int64 \n",
      " 19  2008          55 non-null     int64 \n",
      " 20  2009          55 non-null     int64 \n",
      " 21  2010          55 non-null     int64 \n",
      " 22  2011          55 non-null     int64 \n",
      " 23  2012          55 non-null     int64 \n",
      " 24  2013          55 non-null     int64 \n",
      " 25  2014          55 non-null     int64 \n",
      " 26  2015          55 non-null     int64 \n",
      " 27  2016          55 non-null     int64 \n",
      " 28  2017          55 non-null     int64 \n",
      " 29  2018          55 non-null     int64 \n",
      " 30  2019          55 non-null     int64 \n",
      " 31  Total_export  55 non-null     int64 \n",
      "dtypes: int64(31), object(1)\n",
      "memory usage: 13.9+ KB\n",
      "None\n",
      "<class 'pandas.core.frame.DataFrame'>\n",
      "RangeIndex: 35 entries, 0 to 34\n",
      "Data columns (total 32 columns):\n",
      " #   Column        Non-Null Count  Dtype \n",
      "---  ------        --------------  ----- \n",
      " 0   Country       35 non-null     object\n",
      " 1   1990          35 non-null     int64 \n",
      " 2   1991          35 non-null     int64 \n",
      " 3   1992          35 non-null     int64 \n",
      " 4   1993          35 non-null     int64 \n",
      " 5   1994          35 non-null     int64 \n",
      " 6   1995          35 non-null     int64 \n",
      " 7   1996          35 non-null     int64 \n",
      " 8   1997          35 non-null     int64 \n",
      " 9   1998          35 non-null     int64 \n",
      " 10  1999          35 non-null     int64 \n",
      " 11  2000          35 non-null     int64 \n",
      " 12  2001          35 non-null     int64 \n",
      " 13  2002          35 non-null     int64 \n",
      " 14  2003          35 non-null     int64 \n",
      " 15  2004          35 non-null     int64 \n",
      " 16  2005          35 non-null     int64 \n",
      " 17  2006          35 non-null     int64 \n",
      " 18  2007          35 non-null     int64 \n",
      " 19  2008          35 non-null     int64 \n",
      " 20  2009          35 non-null     int64 \n",
      " 21  2010          35 non-null     int64 \n",
      " 22  2011          35 non-null     int64 \n",
      " 23  2012          35 non-null     int64 \n",
      " 24  2013          35 non-null     int64 \n",
      " 25  2014          35 non-null     int64 \n",
      " 26  2015          35 non-null     int64 \n",
      " 27  2016          35 non-null     int64 \n",
      " 28  2017          35 non-null     int64 \n",
      " 29  2018          35 non-null     int64 \n",
      " 30  2019          35 non-null     int64 \n",
      " 31  Total_import  35 non-null     int64 \n",
      "dtypes: int64(31), object(1)\n",
      "memory usage: 8.9+ KB\n",
      "None\n",
      "<class 'pandas.core.frame.DataFrame'>\n",
      "RangeIndex: 55 entries, 0 to 54\n",
      "Data columns (total 33 columns):\n",
      " #   Column            Non-Null Count  Dtype  \n",
      "---  ------            --------------  -----  \n",
      " 0   Country           55 non-null     object \n",
      " 1   Coffee type       55 non-null     object \n",
      " 2   1990/91           55 non-null     float64\n",
      " 3   1991/92           55 non-null     float64\n",
      " 4   1992/93           55 non-null     float64\n",
      " 5   1993/94           55 non-null     float64\n",
      " 6   1994/95           55 non-null     float64\n",
      " 7   1995/96           55 non-null     float64\n",
      " 8   1996/97           55 non-null     float64\n",
      " 9   1997/98           55 non-null     float64\n",
      " 10  1998/99           55 non-null     float64\n",
      " 11  1999/00           55 non-null     float64\n",
      " 12  2000/01           55 non-null     float64\n",
      " 13  2001/02           55 non-null     float64\n",
      " 14  2002/03           55 non-null     float64\n",
      " 15  2003/04           55 non-null     float64\n",
      " 16  2004/05           55 non-null     float64\n",
      " 17  2005/06           55 non-null     float64\n",
      " 18  2006/07           55 non-null     float64\n",
      " 19  2007/08           55 non-null     float64\n",
      " 20  2008/09           55 non-null     float64\n",
      " 21  2009/10           55 non-null     float64\n",
      " 22  2010/11           55 non-null     float64\n",
      " 23  2011/12           55 non-null     float64\n",
      " 24  2012/13           55 non-null     float64\n",
      " 25  2013/14           55 non-null     float64\n",
      " 26  2014/15           55 non-null     float64\n",
      " 27  2015/16           55 non-null     float64\n",
      " 28  2016/17           55 non-null     float64\n",
      " 29  2017/18           55 non-null     float64\n",
      " 30  2018/19           55 non-null     float64\n",
      " 31  2019/20           55 non-null     float64\n",
      " 32  Total_production  55 non-null     float64\n",
      "dtypes: float64(31), object(2)\n",
      "memory usage: 14.3+ KB\n",
      "None\n"
     ]
    },
    {
     "data": {
      "text/html": [
       "<div>\n",
       "<style scoped>\n",
       "    .dataframe tbody tr th:only-of-type {\n",
       "        vertical-align: middle;\n",
       "    }\n",
       "\n",
       "    .dataframe tbody tr th {\n",
       "        vertical-align: top;\n",
       "    }\n",
       "\n",
       "    .dataframe thead th {\n",
       "        text-align: right;\n",
       "    }\n",
       "</style>\n",
       "<table border=\"1\" class=\"dataframe\">\n",
       "  <thead>\n",
       "    <tr style=\"text-align: right;\">\n",
       "      <th></th>\n",
       "      <th>Country</th>\n",
       "      <th>Coffee type</th>\n",
       "      <th>1990/91</th>\n",
       "      <th>1991/92</th>\n",
       "      <th>1992/93</th>\n",
       "      <th>1993/94</th>\n",
       "      <th>1994/95</th>\n",
       "      <th>1995/96</th>\n",
       "      <th>1996/97</th>\n",
       "      <th>1997/98</th>\n",
       "      <th>...</th>\n",
       "      <th>2011/12</th>\n",
       "      <th>2012/13</th>\n",
       "      <th>2013/14</th>\n",
       "      <th>2014/15</th>\n",
       "      <th>2015/16</th>\n",
       "      <th>2016/17</th>\n",
       "      <th>2017/18</th>\n",
       "      <th>2018/19</th>\n",
       "      <th>2019/20</th>\n",
       "      <th>Total_domestic_consumption</th>\n",
       "    </tr>\n",
       "  </thead>\n",
       "  <tbody>\n",
       "    <tr>\n",
       "      <th>0</th>\n",
       "      <td>Angola</td>\n",
       "      <td>Robusta/Arabica</td>\n",
       "      <td>1200000</td>\n",
       "      <td>1800000</td>\n",
       "      <td>2100000</td>\n",
       "      <td>1200000</td>\n",
       "      <td>1500000</td>\n",
       "      <td>600000</td>\n",
       "      <td>1200000</td>\n",
       "      <td>2400000</td>\n",
       "      <td>...</td>\n",
       "      <td>1800000</td>\n",
       "      <td>1800000</td>\n",
       "      <td>1800000</td>\n",
       "      <td>1800000</td>\n",
       "      <td>1800000</td>\n",
       "      <td>1800000</td>\n",
       "      <td>1800000</td>\n",
       "      <td>1800000</td>\n",
       "      <td>1800000</td>\n",
       "      <td>46500000</td>\n",
       "    </tr>\n",
       "    <tr>\n",
       "      <th>1</th>\n",
       "      <td>Bolivia (Plurinational State of)</td>\n",
       "      <td>Arabica</td>\n",
       "      <td>1500000</td>\n",
       "      <td>1620000</td>\n",
       "      <td>1650000</td>\n",
       "      <td>1710000</td>\n",
       "      <td>1770000</td>\n",
       "      <td>1830000</td>\n",
       "      <td>1890000</td>\n",
       "      <td>1950000</td>\n",
       "      <td>...</td>\n",
       "      <td>2940000</td>\n",
       "      <td>3030000</td>\n",
       "      <td>3120000</td>\n",
       "      <td>3210000</td>\n",
       "      <td>3300000</td>\n",
       "      <td>3420000</td>\n",
       "      <td>3510000</td>\n",
       "      <td>3600000</td>\n",
       "      <td>3660000</td>\n",
       "      <td>75180000</td>\n",
       "    </tr>\n",
       "    <tr>\n",
       "      <th>2</th>\n",
       "      <td>Brazil</td>\n",
       "      <td>Arabica/Robusta</td>\n",
       "      <td>492000000</td>\n",
       "      <td>510000000</td>\n",
       "      <td>534000000</td>\n",
       "      <td>546000000</td>\n",
       "      <td>558000000</td>\n",
       "      <td>606000000</td>\n",
       "      <td>660000000</td>\n",
       "      <td>690000000</td>\n",
       "      <td>...</td>\n",
       "      <td>1183200000</td>\n",
       "      <td>1219800000</td>\n",
       "      <td>1205100000</td>\n",
       "      <td>1219980000</td>\n",
       "      <td>1230480000</td>\n",
       "      <td>1273500000</td>\n",
       "      <td>1319820000</td>\n",
       "      <td>1332000000</td>\n",
       "      <td>1320000000</td>\n",
       "      <td>27824700000</td>\n",
       "    </tr>\n",
       "    <tr>\n",
       "      <th>3</th>\n",
       "      <td>Burundi</td>\n",
       "      <td>Arabica/Robusta</td>\n",
       "      <td>120000</td>\n",
       "      <td>96000</td>\n",
       "      <td>102000</td>\n",
       "      <td>114600</td>\n",
       "      <td>120000</td>\n",
       "      <td>120000</td>\n",
       "      <td>120000</td>\n",
       "      <td>120000</td>\n",
       "      <td>...</td>\n",
       "      <td>120000</td>\n",
       "      <td>120000</td>\n",
       "      <td>120000</td>\n",
       "      <td>120000</td>\n",
       "      <td>120000</td>\n",
       "      <td>120000</td>\n",
       "      <td>120000</td>\n",
       "      <td>120000</td>\n",
       "      <td>120000</td>\n",
       "      <td>3412020</td>\n",
       "    </tr>\n",
       "    <tr>\n",
       "      <th>4</th>\n",
       "      <td>Ecuador</td>\n",
       "      <td>Arabica/Robusta</td>\n",
       "      <td>21000000</td>\n",
       "      <td>21000000</td>\n",
       "      <td>21000000</td>\n",
       "      <td>21000000</td>\n",
       "      <td>21000000</td>\n",
       "      <td>21000000</td>\n",
       "      <td>18000000</td>\n",
       "      <td>18000000</td>\n",
       "      <td>...</td>\n",
       "      <td>9000000</td>\n",
       "      <td>9000000</td>\n",
       "      <td>9300000</td>\n",
       "      <td>9300000</td>\n",
       "      <td>9300000</td>\n",
       "      <td>9300000</td>\n",
       "      <td>9300000</td>\n",
       "      <td>9300000</td>\n",
       "      <td>8940000</td>\n",
       "      <td>381540000</td>\n",
       "    </tr>\n",
       "  </tbody>\n",
       "</table>\n",
       "<p>5 rows × 33 columns</p>\n",
       "</div>"
      ],
      "text/plain": [
       "                            Country      Coffee type    1990/91    1991/92  \\\n",
       "0                            Angola  Robusta/Arabica    1200000    1800000   \n",
       "1  Bolivia (Plurinational State of)          Arabica    1500000    1620000   \n",
       "2                            Brazil  Arabica/Robusta  492000000  510000000   \n",
       "3                           Burundi  Arabica/Robusta     120000      96000   \n",
       "4                           Ecuador  Arabica/Robusta   21000000   21000000   \n",
       "\n",
       "     1992/93    1993/94    1994/95    1995/96    1996/97    1997/98  ...  \\\n",
       "0    2100000    1200000    1500000     600000    1200000    2400000  ...   \n",
       "1    1650000    1710000    1770000    1830000    1890000    1950000  ...   \n",
       "2  534000000  546000000  558000000  606000000  660000000  690000000  ...   \n",
       "3     102000     114600     120000     120000     120000     120000  ...   \n",
       "4   21000000   21000000   21000000   21000000   18000000   18000000  ...   \n",
       "\n",
       "      2011/12     2012/13     2013/14     2014/15     2015/16     2016/17  \\\n",
       "0     1800000     1800000     1800000     1800000     1800000     1800000   \n",
       "1     2940000     3030000     3120000     3210000     3300000     3420000   \n",
       "2  1183200000  1219800000  1205100000  1219980000  1230480000  1273500000   \n",
       "3      120000      120000      120000      120000      120000      120000   \n",
       "4     9000000     9000000     9300000     9300000     9300000     9300000   \n",
       "\n",
       "      2017/18     2018/19     2019/20  Total_domestic_consumption  \n",
       "0     1800000     1800000     1800000                    46500000  \n",
       "1     3510000     3600000     3660000                    75180000  \n",
       "2  1319820000  1332000000  1320000000                 27824700000  \n",
       "3      120000      120000      120000                     3412020  \n",
       "4     9300000     9300000     8940000                   381540000  \n",
       "\n",
       "[5 rows x 33 columns]"
      ]
     },
     "metadata": {},
     "output_type": "display_data"
    },
    {
     "data": {
      "text/html": [
       "<div>\n",
       "<style scoped>\n",
       "    .dataframe tbody tr th:only-of-type {\n",
       "        vertical-align: middle;\n",
       "    }\n",
       "\n",
       "    .dataframe tbody tr th {\n",
       "        vertical-align: top;\n",
       "    }\n",
       "\n",
       "    .dataframe thead th {\n",
       "        text-align: right;\n",
       "    }\n",
       "</style>\n",
       "<table border=\"1\" class=\"dataframe\">\n",
       "  <thead>\n",
       "    <tr style=\"text-align: right;\">\n",
       "      <th></th>\n",
       "      <th>Country</th>\n",
       "      <th>1990</th>\n",
       "      <th>1991</th>\n",
       "      <th>1992</th>\n",
       "      <th>1993</th>\n",
       "      <th>1994</th>\n",
       "      <th>1995</th>\n",
       "      <th>1996</th>\n",
       "      <th>1997</th>\n",
       "      <th>1998</th>\n",
       "      <th>...</th>\n",
       "      <th>2011</th>\n",
       "      <th>2012</th>\n",
       "      <th>2013</th>\n",
       "      <th>2014</th>\n",
       "      <th>2015</th>\n",
       "      <th>2016</th>\n",
       "      <th>2017</th>\n",
       "      <th>2018</th>\n",
       "      <th>2019</th>\n",
       "      <th>Total_export</th>\n",
       "    </tr>\n",
       "  </thead>\n",
       "  <tbody>\n",
       "    <tr>\n",
       "      <th>0</th>\n",
       "      <td>Angola</td>\n",
       "      <td>5040000</td>\n",
       "      <td>4260000</td>\n",
       "      <td>4800000</td>\n",
       "      <td>2340000</td>\n",
       "      <td>480000</td>\n",
       "      <td>2460000</td>\n",
       "      <td>3120000</td>\n",
       "      <td>3000000</td>\n",
       "      <td>3240000</td>\n",
       "      <td>...</td>\n",
       "      <td>480000</td>\n",
       "      <td>480000</td>\n",
       "      <td>360000</td>\n",
       "      <td>540000</td>\n",
       "      <td>660000</td>\n",
       "      <td>660000</td>\n",
       "      <td>540000</td>\n",
       "      <td>540000</td>\n",
       "      <td>1380000</td>\n",
       "      <td>43320000</td>\n",
       "    </tr>\n",
       "    <tr>\n",
       "      <th>1</th>\n",
       "      <td>Bolivia (Plurinational State of)</td>\n",
       "      <td>9360000</td>\n",
       "      <td>4440000</td>\n",
       "      <td>5760000</td>\n",
       "      <td>2820000</td>\n",
       "      <td>5040000</td>\n",
       "      <td>5640000</td>\n",
       "      <td>7380000</td>\n",
       "      <td>6660000</td>\n",
       "      <td>5820000</td>\n",
       "      <td>...</td>\n",
       "      <td>4440000</td>\n",
       "      <td>3780000</td>\n",
       "      <td>3300000</td>\n",
       "      <td>3720000</td>\n",
       "      <td>1800000</td>\n",
       "      <td>1320000</td>\n",
       "      <td>1560000</td>\n",
       "      <td>1320000</td>\n",
       "      <td>1200000</td>\n",
       "      <td>137460000</td>\n",
       "    </tr>\n",
       "    <tr>\n",
       "      <th>2</th>\n",
       "      <td>Brazil</td>\n",
       "      <td>1016160000</td>\n",
       "      <td>1270980000</td>\n",
       "      <td>1127460000</td>\n",
       "      <td>1070280000</td>\n",
       "      <td>1036380000</td>\n",
       "      <td>868080000</td>\n",
       "      <td>915060000</td>\n",
       "      <td>1008060000</td>\n",
       "      <td>1088640000</td>\n",
       "      <td>...</td>\n",
       "      <td>2028360000</td>\n",
       "      <td>1712940000</td>\n",
       "      <td>1899060000</td>\n",
       "      <td>-2147483648</td>\n",
       "      <td>-2147483648</td>\n",
       "      <td>2056140000</td>\n",
       "      <td>1855500000</td>\n",
       "      <td>2138220000</td>\n",
       "      <td>-2147483648</td>\n",
       "      <td>33807709056</td>\n",
       "    </tr>\n",
       "    <tr>\n",
       "      <th>3</th>\n",
       "      <td>Burundi</td>\n",
       "      <td>35100000</td>\n",
       "      <td>41280000</td>\n",
       "      <td>38760000</td>\n",
       "      <td>25080000</td>\n",
       "      <td>30480000</td>\n",
       "      <td>31680000</td>\n",
       "      <td>13440000</td>\n",
       "      <td>31740000</td>\n",
       "      <td>22440000</td>\n",
       "      <td>...</td>\n",
       "      <td>13080000</td>\n",
       "      <td>23520000</td>\n",
       "      <td>11700000</td>\n",
       "      <td>15120000</td>\n",
       "      <td>13800000</td>\n",
       "      <td>12240000</td>\n",
       "      <td>10140000</td>\n",
       "      <td>12120000</td>\n",
       "      <td>17580000</td>\n",
       "      <td>646200000</td>\n",
       "    </tr>\n",
       "    <tr>\n",
       "      <th>4</th>\n",
       "      <td>Cameroon</td>\n",
       "      <td>156660000</td>\n",
       "      <td>105120000</td>\n",
       "      <td>98760000</td>\n",
       "      <td>42300000</td>\n",
       "      <td>32760000</td>\n",
       "      <td>24420000</td>\n",
       "      <td>33840000</td>\n",
       "      <td>82080000</td>\n",
       "      <td>44760000</td>\n",
       "      <td>...</td>\n",
       "      <td>29400000</td>\n",
       "      <td>37320000</td>\n",
       "      <td>16320000</td>\n",
       "      <td>22500000</td>\n",
       "      <td>23400000</td>\n",
       "      <td>16860000</td>\n",
       "      <td>14700000</td>\n",
       "      <td>17220000</td>\n",
       "      <td>15000000</td>\n",
       "      <td>1399920000</td>\n",
       "    </tr>\n",
       "  </tbody>\n",
       "</table>\n",
       "<p>5 rows × 32 columns</p>\n",
       "</div>"
      ],
      "text/plain": [
       "                            Country        1990        1991        1992  \\\n",
       "0                            Angola     5040000     4260000     4800000   \n",
       "1  Bolivia (Plurinational State of)     9360000     4440000     5760000   \n",
       "2                            Brazil  1016160000  1270980000  1127460000   \n",
       "3                           Burundi    35100000    41280000    38760000   \n",
       "4                          Cameroon   156660000   105120000    98760000   \n",
       "\n",
       "         1993        1994       1995       1996        1997        1998  ...  \\\n",
       "0     2340000      480000    2460000    3120000     3000000     3240000  ...   \n",
       "1     2820000     5040000    5640000    7380000     6660000     5820000  ...   \n",
       "2  1070280000  1036380000  868080000  915060000  1008060000  1088640000  ...   \n",
       "3    25080000    30480000   31680000   13440000    31740000    22440000  ...   \n",
       "4    42300000    32760000   24420000   33840000    82080000    44760000  ...   \n",
       "\n",
       "         2011        2012        2013        2014        2015        2016  \\\n",
       "0      480000      480000      360000      540000      660000      660000   \n",
       "1     4440000     3780000     3300000     3720000     1800000     1320000   \n",
       "2  2028360000  1712940000  1899060000 -2147483648 -2147483648  2056140000   \n",
       "3    13080000    23520000    11700000    15120000    13800000    12240000   \n",
       "4    29400000    37320000    16320000    22500000    23400000    16860000   \n",
       "\n",
       "         2017        2018        2019  Total_export  \n",
       "0      540000      540000     1380000      43320000  \n",
       "1     1560000     1320000     1200000     137460000  \n",
       "2  1855500000  2138220000 -2147483648   33807709056  \n",
       "3    10140000    12120000    17580000     646200000  \n",
       "4    14700000    17220000    15000000    1399920000  \n",
       "\n",
       "[5 rows x 32 columns]"
      ]
     },
     "metadata": {},
     "output_type": "display_data"
    },
    {
     "data": {
      "text/html": [
       "<div>\n",
       "<style scoped>\n",
       "    .dataframe tbody tr th:only-of-type {\n",
       "        vertical-align: middle;\n",
       "    }\n",
       "\n",
       "    .dataframe tbody tr th {\n",
       "        vertical-align: top;\n",
       "    }\n",
       "\n",
       "    .dataframe thead th {\n",
       "        text-align: right;\n",
       "    }\n",
       "</style>\n",
       "<table border=\"1\" class=\"dataframe\">\n",
       "  <thead>\n",
       "    <tr style=\"text-align: right;\">\n",
       "      <th></th>\n",
       "      <th>Country</th>\n",
       "      <th>1990</th>\n",
       "      <th>1991</th>\n",
       "      <th>1992</th>\n",
       "      <th>1993</th>\n",
       "      <th>1994</th>\n",
       "      <th>1995</th>\n",
       "      <th>1996</th>\n",
       "      <th>1997</th>\n",
       "      <th>1998</th>\n",
       "      <th>...</th>\n",
       "      <th>2011</th>\n",
       "      <th>2012</th>\n",
       "      <th>2013</th>\n",
       "      <th>2014</th>\n",
       "      <th>2015</th>\n",
       "      <th>2016</th>\n",
       "      <th>2017</th>\n",
       "      <th>2018</th>\n",
       "      <th>2019</th>\n",
       "      <th>Total_import</th>\n",
       "    </tr>\n",
       "  </thead>\n",
       "  <tbody>\n",
       "    <tr>\n",
       "      <th>0</th>\n",
       "      <td>Austria</td>\n",
       "      <td>112800000</td>\n",
       "      <td>123480000</td>\n",
       "      <td>132360000</td>\n",
       "      <td>110160000</td>\n",
       "      <td>85020000</td>\n",
       "      <td>73860000</td>\n",
       "      <td>72600000</td>\n",
       "      <td>77640000</td>\n",
       "      <td>77580000</td>\n",
       "      <td>...</td>\n",
       "      <td>87120000</td>\n",
       "      <td>93540000</td>\n",
       "      <td>93300000</td>\n",
       "      <td>91500000</td>\n",
       "      <td>90780000</td>\n",
       "      <td>89700000</td>\n",
       "      <td>87600000</td>\n",
       "      <td>85740000</td>\n",
       "      <td>86880000</td>\n",
       "      <td>2765760000</td>\n",
       "    </tr>\n",
       "    <tr>\n",
       "      <th>1</th>\n",
       "      <td>Belgium</td>\n",
       "      <td>0</td>\n",
       "      <td>0</td>\n",
       "      <td>0</td>\n",
       "      <td>0</td>\n",
       "      <td>0</td>\n",
       "      <td>0</td>\n",
       "      <td>0</td>\n",
       "      <td>0</td>\n",
       "      <td>0</td>\n",
       "      <td>...</td>\n",
       "      <td>349680000</td>\n",
       "      <td>340080000</td>\n",
       "      <td>330120000</td>\n",
       "      <td>312720000</td>\n",
       "      <td>332040000</td>\n",
       "      <td>363120000</td>\n",
       "      <td>340620000</td>\n",
       "      <td>344520000</td>\n",
       "      <td>371940000</td>\n",
       "      <td>6240540000</td>\n",
       "    </tr>\n",
       "    <tr>\n",
       "      <th>2</th>\n",
       "      <td>Belgium/Luxembourg</td>\n",
       "      <td>120900000</td>\n",
       "      <td>104760000</td>\n",
       "      <td>109680000</td>\n",
       "      <td>123780000</td>\n",
       "      <td>135720000</td>\n",
       "      <td>144060000</td>\n",
       "      <td>151560000</td>\n",
       "      <td>152640000</td>\n",
       "      <td>214800000</td>\n",
       "      <td>...</td>\n",
       "      <td>0</td>\n",
       "      <td>0</td>\n",
       "      <td>0</td>\n",
       "      <td>0</td>\n",
       "      <td>0</td>\n",
       "      <td>0</td>\n",
       "      <td>0</td>\n",
       "      <td>0</td>\n",
       "      <td>0</td>\n",
       "      <td>1257900000</td>\n",
       "    </tr>\n",
       "    <tr>\n",
       "      <th>3</th>\n",
       "      <td>Bulgaria</td>\n",
       "      <td>16080000</td>\n",
       "      <td>12000000</td>\n",
       "      <td>10920000</td>\n",
       "      <td>23820000</td>\n",
       "      <td>27780000</td>\n",
       "      <td>30900000</td>\n",
       "      <td>16320000</td>\n",
       "      <td>17640000</td>\n",
       "      <td>20520000</td>\n",
       "      <td>...</td>\n",
       "      <td>28920000</td>\n",
       "      <td>33600000</td>\n",
       "      <td>36540000</td>\n",
       "      <td>37260000</td>\n",
       "      <td>40920000</td>\n",
       "      <td>46740000</td>\n",
       "      <td>42420000</td>\n",
       "      <td>44220000</td>\n",
       "      <td>47100000</td>\n",
       "      <td>830700000</td>\n",
       "    </tr>\n",
       "    <tr>\n",
       "      <th>4</th>\n",
       "      <td>Croatia</td>\n",
       "      <td>0</td>\n",
       "      <td>0</td>\n",
       "      <td>10080000</td>\n",
       "      <td>9780000</td>\n",
       "      <td>11580000</td>\n",
       "      <td>19200000</td>\n",
       "      <td>19320000</td>\n",
       "      <td>23100000</td>\n",
       "      <td>20340000</td>\n",
       "      <td>...</td>\n",
       "      <td>23460000</td>\n",
       "      <td>23040000</td>\n",
       "      <td>24780000</td>\n",
       "      <td>25200000</td>\n",
       "      <td>26220000</td>\n",
       "      <td>28740000</td>\n",
       "      <td>26340000</td>\n",
       "      <td>26760000</td>\n",
       "      <td>27960000</td>\n",
       "      <td>622080000</td>\n",
       "    </tr>\n",
       "  </tbody>\n",
       "</table>\n",
       "<p>5 rows × 32 columns</p>\n",
       "</div>"
      ],
      "text/plain": [
       "                 Country       1990       1991       1992       1993  \\\n",
       "0                Austria  112800000  123480000  132360000  110160000   \n",
       "1                Belgium          0          0          0          0   \n",
       "2     Belgium/Luxembourg  120900000  104760000  109680000  123780000   \n",
       "3               Bulgaria   16080000   12000000   10920000   23820000   \n",
       "4                Croatia          0          0   10080000    9780000   \n",
       "\n",
       "        1994       1995       1996       1997       1998  ...       2011  \\\n",
       "0   85020000   73860000   72600000   77640000   77580000  ...   87120000   \n",
       "1          0          0          0          0          0  ...  349680000   \n",
       "2  135720000  144060000  151560000  152640000  214800000  ...          0   \n",
       "3   27780000   30900000   16320000   17640000   20520000  ...   28920000   \n",
       "4   11580000   19200000   19320000   23100000   20340000  ...   23460000   \n",
       "\n",
       "        2012       2013       2014       2015       2016       2017  \\\n",
       "0   93540000   93300000   91500000   90780000   89700000   87600000   \n",
       "1  340080000  330120000  312720000  332040000  363120000  340620000   \n",
       "2          0          0          0          0          0          0   \n",
       "3   33600000   36540000   37260000   40920000   46740000   42420000   \n",
       "4   23040000   24780000   25200000   26220000   28740000   26340000   \n",
       "\n",
       "        2018       2019  Total_import  \n",
       "0   85740000   86880000    2765760000  \n",
       "1  344520000  371940000    6240540000  \n",
       "2          0          0    1257900000  \n",
       "3   44220000   47100000     830700000  \n",
       "4   26760000   27960000     622080000  \n",
       "\n",
       "[5 rows x 32 columns]"
      ]
     },
     "metadata": {},
     "output_type": "display_data"
    },
    {
     "data": {
      "text/html": [
       "<div>\n",
       "<style scoped>\n",
       "    .dataframe tbody tr th:only-of-type {\n",
       "        vertical-align: middle;\n",
       "    }\n",
       "\n",
       "    .dataframe tbody tr th {\n",
       "        vertical-align: top;\n",
       "    }\n",
       "\n",
       "    .dataframe thead th {\n",
       "        text-align: right;\n",
       "    }\n",
       "</style>\n",
       "<table border=\"1\" class=\"dataframe\">\n",
       "  <thead>\n",
       "    <tr style=\"text-align: right;\">\n",
       "      <th></th>\n",
       "      <th>Country</th>\n",
       "      <th>Coffee type</th>\n",
       "      <th>1990/91</th>\n",
       "      <th>1991/92</th>\n",
       "      <th>1992/93</th>\n",
       "      <th>1993/94</th>\n",
       "      <th>1994/95</th>\n",
       "      <th>1995/96</th>\n",
       "      <th>1996/97</th>\n",
       "      <th>1997/98</th>\n",
       "      <th>...</th>\n",
       "      <th>2011/12</th>\n",
       "      <th>2012/13</th>\n",
       "      <th>2013/14</th>\n",
       "      <th>2014/15</th>\n",
       "      <th>2015/16</th>\n",
       "      <th>2016/17</th>\n",
       "      <th>2017/18</th>\n",
       "      <th>2018/19</th>\n",
       "      <th>2019/20</th>\n",
       "      <th>Total_production</th>\n",
       "    </tr>\n",
       "  </thead>\n",
       "  <tbody>\n",
       "    <tr>\n",
       "      <th>0</th>\n",
       "      <td>Angola</td>\n",
       "      <td>Robusta/Arabica</td>\n",
       "      <td>3.000000e+06</td>\n",
       "      <td>4.740000e+06</td>\n",
       "      <td>4.680000e+06</td>\n",
       "      <td>1.980000e+06</td>\n",
       "      <td>4.620000e+06</td>\n",
       "      <td>3.720000e+06</td>\n",
       "      <td>4.260000e+06</td>\n",
       "      <td>3.840000e+06</td>\n",
       "      <td>...</td>\n",
       "      <td>1.740000e+06</td>\n",
       "      <td>1.980000e+06</td>\n",
       "      <td>2.100000e+06</td>\n",
       "      <td>2.340000e+06</td>\n",
       "      <td>2.460000e+06</td>\n",
       "      <td>2.700000e+06</td>\n",
       "      <td>2.100000e+06</td>\n",
       "      <td>2.520000e+06</td>\n",
       "      <td>3.120000e+06</td>\n",
       "      <td>8.208000e+07</td>\n",
       "    </tr>\n",
       "    <tr>\n",
       "      <th>1</th>\n",
       "      <td>Bolivia (Plurinational State of)</td>\n",
       "      <td>Arabica</td>\n",
       "      <td>7.380000e+06</td>\n",
       "      <td>6.240000e+06</td>\n",
       "      <td>7.200000e+06</td>\n",
       "      <td>3.060000e+06</td>\n",
       "      <td>7.020000e+06</td>\n",
       "      <td>8.520000e+06</td>\n",
       "      <td>7.500000e+06</td>\n",
       "      <td>8.460000e+06</td>\n",
       "      <td>...</td>\n",
       "      <td>7.920000e+06</td>\n",
       "      <td>6.300000e+06</td>\n",
       "      <td>7.200000e+06</td>\n",
       "      <td>6.000000e+06</td>\n",
       "      <td>5.040000e+06</td>\n",
       "      <td>4.680000e+06</td>\n",
       "      <td>5.040000e+06</td>\n",
       "      <td>4.980000e+06</td>\n",
       "      <td>4.860000e+06</td>\n",
       "      <td>2.070000e+08</td>\n",
       "    </tr>\n",
       "    <tr>\n",
       "      <th>2</th>\n",
       "      <td>Brazil</td>\n",
       "      <td>Arabica/Robusta</td>\n",
       "      <td>1.637160e+09</td>\n",
       "      <td>1.637580e+09</td>\n",
       "      <td>2.076180e+09</td>\n",
       "      <td>1.690020e+09</td>\n",
       "      <td>1.691520e+09</td>\n",
       "      <td>1.083600e+09</td>\n",
       "      <td>1.751820e+09</td>\n",
       "      <td>1.568880e+09</td>\n",
       "      <td>...</td>\n",
       "      <td>2.915520e+09</td>\n",
       "      <td>3.325080e+09</td>\n",
       "      <td>3.281340e+09</td>\n",
       "      <td>3.198300e+09</td>\n",
       "      <td>3.172260e+09</td>\n",
       "      <td>3.407280e+09</td>\n",
       "      <td>3.164400e+09</td>\n",
       "      <td>3.907860e+09</td>\n",
       "      <td>3.492660e+09</td>\n",
       "      <td>7.508298e+10</td>\n",
       "    </tr>\n",
       "    <tr>\n",
       "      <th>3</th>\n",
       "      <td>Burundi</td>\n",
       "      <td>Arabica/Robusta</td>\n",
       "      <td>2.922000e+07</td>\n",
       "      <td>4.002000e+07</td>\n",
       "      <td>3.720000e+07</td>\n",
       "      <td>2.358000e+07</td>\n",
       "      <td>3.984000e+07</td>\n",
       "      <td>2.604000e+07</td>\n",
       "      <td>2.406000e+07</td>\n",
       "      <td>1.500000e+07</td>\n",
       "      <td>...</td>\n",
       "      <td>1.224000e+07</td>\n",
       "      <td>2.436000e+07</td>\n",
       "      <td>9.780000e+06</td>\n",
       "      <td>1.488000e+07</td>\n",
       "      <td>1.614000e+07</td>\n",
       "      <td>1.176000e+07</td>\n",
       "      <td>1.212000e+07</td>\n",
       "      <td>1.224000e+07</td>\n",
       "      <td>1.632000e+07</td>\n",
       "      <td>6.236400e+08</td>\n",
       "    </tr>\n",
       "    <tr>\n",
       "      <th>4</th>\n",
       "      <td>Ecuador</td>\n",
       "      <td>Arabica/Robusta</td>\n",
       "      <td>9.024000e+07</td>\n",
       "      <td>1.274400e+08</td>\n",
       "      <td>7.110000e+07</td>\n",
       "      <td>1.241400e+08</td>\n",
       "      <td>1.425600e+08</td>\n",
       "      <td>1.132800e+08</td>\n",
       "      <td>1.195800e+08</td>\n",
       "      <td>7.146000e+07</td>\n",
       "      <td>...</td>\n",
       "      <td>4.950000e+07</td>\n",
       "      <td>4.968000e+07</td>\n",
       "      <td>3.996000e+07</td>\n",
       "      <td>3.864000e+07</td>\n",
       "      <td>3.864000e+07</td>\n",
       "      <td>3.870000e+07</td>\n",
       "      <td>3.744000e+07</td>\n",
       "      <td>2.976000e+07</td>\n",
       "      <td>3.354000e+07</td>\n",
       "      <td>1.900380e+09</td>\n",
       "    </tr>\n",
       "  </tbody>\n",
       "</table>\n",
       "<p>5 rows × 33 columns</p>\n",
       "</div>"
      ],
      "text/plain": [
       "                            Country      Coffee type       1990/91  \\\n",
       "0                            Angola  Robusta/Arabica  3.000000e+06   \n",
       "1  Bolivia (Plurinational State of)          Arabica  7.380000e+06   \n",
       "2                            Brazil  Arabica/Robusta  1.637160e+09   \n",
       "3                           Burundi  Arabica/Robusta  2.922000e+07   \n",
       "4                           Ecuador  Arabica/Robusta  9.024000e+07   \n",
       "\n",
       "        1991/92       1992/93       1993/94       1994/95       1995/96  \\\n",
       "0  4.740000e+06  4.680000e+06  1.980000e+06  4.620000e+06  3.720000e+06   \n",
       "1  6.240000e+06  7.200000e+06  3.060000e+06  7.020000e+06  8.520000e+06   \n",
       "2  1.637580e+09  2.076180e+09  1.690020e+09  1.691520e+09  1.083600e+09   \n",
       "3  4.002000e+07  3.720000e+07  2.358000e+07  3.984000e+07  2.604000e+07   \n",
       "4  1.274400e+08  7.110000e+07  1.241400e+08  1.425600e+08  1.132800e+08   \n",
       "\n",
       "        1996/97       1997/98  ...       2011/12       2012/13       2013/14  \\\n",
       "0  4.260000e+06  3.840000e+06  ...  1.740000e+06  1.980000e+06  2.100000e+06   \n",
       "1  7.500000e+06  8.460000e+06  ...  7.920000e+06  6.300000e+06  7.200000e+06   \n",
       "2  1.751820e+09  1.568880e+09  ...  2.915520e+09  3.325080e+09  3.281340e+09   \n",
       "3  2.406000e+07  1.500000e+07  ...  1.224000e+07  2.436000e+07  9.780000e+06   \n",
       "4  1.195800e+08  7.146000e+07  ...  4.950000e+07  4.968000e+07  3.996000e+07   \n",
       "\n",
       "        2014/15       2015/16       2016/17       2017/18       2018/19  \\\n",
       "0  2.340000e+06  2.460000e+06  2.700000e+06  2.100000e+06  2.520000e+06   \n",
       "1  6.000000e+06  5.040000e+06  4.680000e+06  5.040000e+06  4.980000e+06   \n",
       "2  3.198300e+09  3.172260e+09  3.407280e+09  3.164400e+09  3.907860e+09   \n",
       "3  1.488000e+07  1.614000e+07  1.176000e+07  1.212000e+07  1.224000e+07   \n",
       "4  3.864000e+07  3.864000e+07  3.870000e+07  3.744000e+07  2.976000e+07   \n",
       "\n",
       "        2019/20  Total_production  \n",
       "0  3.120000e+06      8.208000e+07  \n",
       "1  4.860000e+06      2.070000e+08  \n",
       "2  3.492660e+09      7.508298e+10  \n",
       "3  1.632000e+07      6.236400e+08  \n",
       "4  3.354000e+07      1.900380e+09  \n",
       "\n",
       "[5 rows x 33 columns]"
      ]
     },
     "metadata": {},
     "output_type": "display_data"
    },
    {
     "data": {
      "text/html": [
       "<div>\n",
       "<style scoped>\n",
       "    .dataframe tbody tr th:only-of-type {\n",
       "        vertical-align: middle;\n",
       "    }\n",
       "\n",
       "    .dataframe tbody tr th {\n",
       "        vertical-align: top;\n",
       "    }\n",
       "\n",
       "    .dataframe thead th {\n",
       "        text-align: right;\n",
       "    }\n",
       "</style>\n",
       "<table border=\"1\" class=\"dataframe\">\n",
       "  <thead>\n",
       "    <tr style=\"text-align: right;\">\n",
       "      <th></th>\n",
       "      <th>Country</th>\n",
       "      <th>1990</th>\n",
       "      <th>1991</th>\n",
       "      <th>1992</th>\n",
       "      <th>1993</th>\n",
       "      <th>1994</th>\n",
       "      <th>1995</th>\n",
       "      <th>1996</th>\n",
       "      <th>1997</th>\n",
       "      <th>1998</th>\n",
       "      <th>...</th>\n",
       "      <th>2011</th>\n",
       "      <th>2012</th>\n",
       "      <th>2013</th>\n",
       "      <th>2014</th>\n",
       "      <th>2015</th>\n",
       "      <th>2016</th>\n",
       "      <th>2017</th>\n",
       "      <th>2018</th>\n",
       "      <th>2019</th>\n",
       "      <th>Total_import_consumption</th>\n",
       "    </tr>\n",
       "  </thead>\n",
       "  <tbody>\n",
       "    <tr>\n",
       "      <th>0</th>\n",
       "      <td>Austria</td>\n",
       "      <td>80400000</td>\n",
       "      <td>78120000</td>\n",
       "      <td>72720000</td>\n",
       "      <td>80100000</td>\n",
       "      <td>65160000</td>\n",
       "      <td>60720000</td>\n",
       "      <td>64560000</td>\n",
       "      <td>65220000</td>\n",
       "      <td>66300000</td>\n",
       "      <td>...</td>\n",
       "      <td>67020000</td>\n",
       "      <td>76140000</td>\n",
       "      <td>74940000</td>\n",
       "      <td>68100000</td>\n",
       "      <td>68160000</td>\n",
       "      <td>71580000</td>\n",
       "      <td>69720000</td>\n",
       "      <td>70320000</td>\n",
       "      <td>70380000</td>\n",
       "      <td>1904520000</td>\n",
       "    </tr>\n",
       "    <tr>\n",
       "      <th>1</th>\n",
       "      <td>Belgium</td>\n",
       "      <td>0</td>\n",
       "      <td>0</td>\n",
       "      <td>0</td>\n",
       "      <td>0</td>\n",
       "      <td>0</td>\n",
       "      <td>0</td>\n",
       "      <td>0</td>\n",
       "      <td>0</td>\n",
       "      <td>0</td>\n",
       "      <td>...</td>\n",
       "      <td>56040000</td>\n",
       "      <td>54900000</td>\n",
       "      <td>74700000</td>\n",
       "      <td>75540000</td>\n",
       "      <td>64440000</td>\n",
       "      <td>90120000</td>\n",
       "      <td>78000000</td>\n",
       "      <td>81900000</td>\n",
       "      <td>71100000</td>\n",
       "      <td>1460520000</td>\n",
       "    </tr>\n",
       "    <tr>\n",
       "      <th>2</th>\n",
       "      <td>Belgium/Luxembourg</td>\n",
       "      <td>67440000</td>\n",
       "      <td>42480000</td>\n",
       "      <td>41760000</td>\n",
       "      <td>47340000</td>\n",
       "      <td>57480000</td>\n",
       "      <td>64380000</td>\n",
       "      <td>62340000</td>\n",
       "      <td>53160000</td>\n",
       "      <td>78540000</td>\n",
       "      <td>...</td>\n",
       "      <td>0</td>\n",
       "      <td>0</td>\n",
       "      <td>0</td>\n",
       "      <td>0</td>\n",
       "      <td>0</td>\n",
       "      <td>0</td>\n",
       "      <td>0</td>\n",
       "      <td>0</td>\n",
       "      <td>0</td>\n",
       "      <td>514920000</td>\n",
       "    </tr>\n",
       "    <tr>\n",
       "      <th>3</th>\n",
       "      <td>Bulgaria</td>\n",
       "      <td>6120000</td>\n",
       "      <td>1020000</td>\n",
       "      <td>10500000</td>\n",
       "      <td>19620000</td>\n",
       "      <td>21180000</td>\n",
       "      <td>23580000</td>\n",
       "      <td>14760000</td>\n",
       "      <td>16500000</td>\n",
       "      <td>19440000</td>\n",
       "      <td>...</td>\n",
       "      <td>21600000</td>\n",
       "      <td>22560000</td>\n",
       "      <td>25140000</td>\n",
       "      <td>22560000</td>\n",
       "      <td>24360000</td>\n",
       "      <td>27120000</td>\n",
       "      <td>24900000</td>\n",
       "      <td>25560000</td>\n",
       "      <td>25380000</td>\n",
       "      <td>625080000</td>\n",
       "    </tr>\n",
       "    <tr>\n",
       "      <th>4</th>\n",
       "      <td>Croatia</td>\n",
       "      <td>0</td>\n",
       "      <td>0</td>\n",
       "      <td>8100000</td>\n",
       "      <td>7920000</td>\n",
       "      <td>9840000</td>\n",
       "      <td>17280000</td>\n",
       "      <td>18240000</td>\n",
       "      <td>21660000</td>\n",
       "      <td>19200000</td>\n",
       "      <td>...</td>\n",
       "      <td>22020000</td>\n",
       "      <td>21600000</td>\n",
       "      <td>23220000</td>\n",
       "      <td>22080000</td>\n",
       "      <td>22500000</td>\n",
       "      <td>22800000</td>\n",
       "      <td>21660000</td>\n",
       "      <td>21600000</td>\n",
       "      <td>22860000</td>\n",
       "      <td>564180000</td>\n",
       "    </tr>\n",
       "  </tbody>\n",
       "</table>\n",
       "<p>5 rows × 32 columns</p>\n",
       "</div>"
      ],
      "text/plain": [
       "                 Country      1990      1991      1992      1993      1994  \\\n",
       "0                Austria  80400000  78120000  72720000  80100000  65160000   \n",
       "1                Belgium         0         0         0         0         0   \n",
       "2     Belgium/Luxembourg  67440000  42480000  41760000  47340000  57480000   \n",
       "3               Bulgaria   6120000   1020000  10500000  19620000  21180000   \n",
       "4                Croatia         0         0   8100000   7920000   9840000   \n",
       "\n",
       "       1995      1996      1997      1998  ...      2011      2012      2013  \\\n",
       "0  60720000  64560000  65220000  66300000  ...  67020000  76140000  74940000   \n",
       "1         0         0         0         0  ...  56040000  54900000  74700000   \n",
       "2  64380000  62340000  53160000  78540000  ...         0         0         0   \n",
       "3  23580000  14760000  16500000  19440000  ...  21600000  22560000  25140000   \n",
       "4  17280000  18240000  21660000  19200000  ...  22020000  21600000  23220000   \n",
       "\n",
       "       2014      2015      2016      2017      2018      2019  \\\n",
       "0  68100000  68160000  71580000  69720000  70320000  70380000   \n",
       "1  75540000  64440000  90120000  78000000  81900000  71100000   \n",
       "2         0         0         0         0         0         0   \n",
       "3  22560000  24360000  27120000  24900000  25560000  25380000   \n",
       "4  22080000  22500000  22800000  21660000  21600000  22860000   \n",
       "\n",
       "   Total_import_consumption  \n",
       "0                1904520000  \n",
       "1                1460520000  \n",
       "2                 514920000  \n",
       "3                 625080000  \n",
       "4                 564180000  \n",
       "\n",
       "[5 rows x 32 columns]"
      ]
     },
     "metadata": {},
     "output_type": "display_data"
    }
   ],
   "source": [
    "import pandas as pd\n",
    "import numpy as np\n",
    "import matplotlib.pyplot as plt\n",
    "import seaborn as sns\n",
    "import plotly.graph_objs as go\n",
    "import plotly.express as px\n",
    "from plotly.subplots import make_subplots\n",
    "coffee_dom_cons = pd.read_csv('./archive/Coffee_domestic_consumption.csv')\n",
    "coffee_export = pd.read_csv('./archive/Coffee_export.csv')\n",
    "coffee_import = pd.read_csv('./archive/Coffee_import.csv')\n",
    "coffee_production = pd.read_csv('./archive/Coffee_production.csv')\n",
    "coffee_importers_cons = pd.read_csv('./archive/Coffee_importers_consumption.csv')\n",
    "\n",
    "print(coffee_dom_cons.info())\n",
    "print(coffee_export.info())\n",
    "print(coffee_import.info())\n",
    "print(coffee_production.info())\n",
    "display(coffee_dom_cons.head())\n",
    "display(coffee_export.head())\n",
    "display(coffee_import.head())\n",
    "display(coffee_production.head())\n",
    "display(coffee_importers_cons.head())"
   ]
  },
  {
   "cell_type": "code",
   "execution_count": 243,
   "metadata": {},
   "outputs": [
    {
     "name": "stdout",
     "output_type": "stream",
     "text": [
      "(1705, 4)\n",
      "(1705, 3)\n",
      "(1085, 3)\n",
      "(1705, 4)\n",
      "(1085, 3)\n"
     ]
    },
    {
     "data": {
      "text/html": [
       "<div>\n",
       "<style scoped>\n",
       "    .dataframe tbody tr th:only-of-type {\n",
       "        vertical-align: middle;\n",
       "    }\n",
       "\n",
       "    .dataframe tbody tr th {\n",
       "        vertical-align: top;\n",
       "    }\n",
       "\n",
       "    .dataframe thead th {\n",
       "        text-align: right;\n",
       "    }\n",
       "</style>\n",
       "<table border=\"1\" class=\"dataframe\">\n",
       "  <thead>\n",
       "    <tr style=\"text-align: right;\">\n",
       "      <th></th>\n",
       "      <th>Country</th>\n",
       "      <th>Coffee type</th>\n",
       "      <th>year</th>\n",
       "      <th>consumption</th>\n",
       "    </tr>\n",
       "  </thead>\n",
       "  <tbody>\n",
       "    <tr>\n",
       "      <th>0</th>\n",
       "      <td>Angola</td>\n",
       "      <td>Robusta/Arabica</td>\n",
       "      <td>1990</td>\n",
       "      <td>1200000</td>\n",
       "    </tr>\n",
       "    <tr>\n",
       "      <th>1</th>\n",
       "      <td>Bolivia (Plurinational State of)</td>\n",
       "      <td>Arabica</td>\n",
       "      <td>1990</td>\n",
       "      <td>1500000</td>\n",
       "    </tr>\n",
       "    <tr>\n",
       "      <th>2</th>\n",
       "      <td>Brazil</td>\n",
       "      <td>Arabica/Robusta</td>\n",
       "      <td>1990</td>\n",
       "      <td>492000000</td>\n",
       "    </tr>\n",
       "    <tr>\n",
       "      <th>3</th>\n",
       "      <td>Burundi</td>\n",
       "      <td>Arabica/Robusta</td>\n",
       "      <td>1990</td>\n",
       "      <td>120000</td>\n",
       "    </tr>\n",
       "    <tr>\n",
       "      <th>4</th>\n",
       "      <td>Ecuador</td>\n",
       "      <td>Arabica/Robusta</td>\n",
       "      <td>1990</td>\n",
       "      <td>21000000</td>\n",
       "    </tr>\n",
       "  </tbody>\n",
       "</table>\n",
       "</div>"
      ],
      "text/plain": [
       "                            Country      Coffee type  year  consumption\n",
       "0                            Angola  Robusta/Arabica  1990      1200000\n",
       "1  Bolivia (Plurinational State of)          Arabica  1990      1500000\n",
       "2                            Brazil  Arabica/Robusta  1990    492000000\n",
       "3                           Burundi  Arabica/Robusta  1990       120000\n",
       "4                           Ecuador  Arabica/Robusta  1990     21000000"
      ]
     },
     "metadata": {},
     "output_type": "display_data"
    },
    {
     "data": {
      "text/html": [
       "<div>\n",
       "<style scoped>\n",
       "    .dataframe tbody tr th:only-of-type {\n",
       "        vertical-align: middle;\n",
       "    }\n",
       "\n",
       "    .dataframe tbody tr th {\n",
       "        vertical-align: top;\n",
       "    }\n",
       "\n",
       "    .dataframe thead th {\n",
       "        text-align: right;\n",
       "    }\n",
       "</style>\n",
       "<table border=\"1\" class=\"dataframe\">\n",
       "  <thead>\n",
       "    <tr style=\"text-align: right;\">\n",
       "      <th></th>\n",
       "      <th>Country</th>\n",
       "      <th>year</th>\n",
       "      <th>export</th>\n",
       "    </tr>\n",
       "  </thead>\n",
       "  <tbody>\n",
       "    <tr>\n",
       "      <th>0</th>\n",
       "      <td>Angola</td>\n",
       "      <td>1990</td>\n",
       "      <td>5040000</td>\n",
       "    </tr>\n",
       "    <tr>\n",
       "      <th>1</th>\n",
       "      <td>Bolivia (Plurinational State of)</td>\n",
       "      <td>1990</td>\n",
       "      <td>9360000</td>\n",
       "    </tr>\n",
       "    <tr>\n",
       "      <th>2</th>\n",
       "      <td>Brazil</td>\n",
       "      <td>1990</td>\n",
       "      <td>1016160000</td>\n",
       "    </tr>\n",
       "    <tr>\n",
       "      <th>3</th>\n",
       "      <td>Burundi</td>\n",
       "      <td>1990</td>\n",
       "      <td>35100000</td>\n",
       "    </tr>\n",
       "    <tr>\n",
       "      <th>4</th>\n",
       "      <td>Cameroon</td>\n",
       "      <td>1990</td>\n",
       "      <td>156660000</td>\n",
       "    </tr>\n",
       "  </tbody>\n",
       "</table>\n",
       "</div>"
      ],
      "text/plain": [
       "                            Country  year      export\n",
       "0                            Angola  1990     5040000\n",
       "1  Bolivia (Plurinational State of)  1990     9360000\n",
       "2                            Brazil  1990  1016160000\n",
       "3                           Burundi  1990    35100000\n",
       "4                          Cameroon  1990   156660000"
      ]
     },
     "metadata": {},
     "output_type": "display_data"
    },
    {
     "data": {
      "text/html": [
       "<div>\n",
       "<style scoped>\n",
       "    .dataframe tbody tr th:only-of-type {\n",
       "        vertical-align: middle;\n",
       "    }\n",
       "\n",
       "    .dataframe tbody tr th {\n",
       "        vertical-align: top;\n",
       "    }\n",
       "\n",
       "    .dataframe thead th {\n",
       "        text-align: right;\n",
       "    }\n",
       "</style>\n",
       "<table border=\"1\" class=\"dataframe\">\n",
       "  <thead>\n",
       "    <tr style=\"text-align: right;\">\n",
       "      <th></th>\n",
       "      <th>Country</th>\n",
       "      <th>year</th>\n",
       "      <th>import</th>\n",
       "    </tr>\n",
       "  </thead>\n",
       "  <tbody>\n",
       "    <tr>\n",
       "      <th>0</th>\n",
       "      <td>Austria</td>\n",
       "      <td>1990</td>\n",
       "      <td>112800000</td>\n",
       "    </tr>\n",
       "    <tr>\n",
       "      <th>1</th>\n",
       "      <td>Belgium</td>\n",
       "      <td>1990</td>\n",
       "      <td>0</td>\n",
       "    </tr>\n",
       "    <tr>\n",
       "      <th>2</th>\n",
       "      <td>Belgium/Luxembourg</td>\n",
       "      <td>1990</td>\n",
       "      <td>120900000</td>\n",
       "    </tr>\n",
       "    <tr>\n",
       "      <th>3</th>\n",
       "      <td>Bulgaria</td>\n",
       "      <td>1990</td>\n",
       "      <td>16080000</td>\n",
       "    </tr>\n",
       "    <tr>\n",
       "      <th>4</th>\n",
       "      <td>Croatia</td>\n",
       "      <td>1990</td>\n",
       "      <td>0</td>\n",
       "    </tr>\n",
       "  </tbody>\n",
       "</table>\n",
       "</div>"
      ],
      "text/plain": [
       "                 Country  year     import\n",
       "0                Austria  1990  112800000\n",
       "1                Belgium  1990          0\n",
       "2     Belgium/Luxembourg  1990  120900000\n",
       "3               Bulgaria  1990   16080000\n",
       "4                Croatia  1990          0"
      ]
     },
     "metadata": {},
     "output_type": "display_data"
    },
    {
     "data": {
      "text/html": [
       "<div>\n",
       "<style scoped>\n",
       "    .dataframe tbody tr th:only-of-type {\n",
       "        vertical-align: middle;\n",
       "    }\n",
       "\n",
       "    .dataframe tbody tr th {\n",
       "        vertical-align: top;\n",
       "    }\n",
       "\n",
       "    .dataframe thead th {\n",
       "        text-align: right;\n",
       "    }\n",
       "</style>\n",
       "<table border=\"1\" class=\"dataframe\">\n",
       "  <thead>\n",
       "    <tr style=\"text-align: right;\">\n",
       "      <th></th>\n",
       "      <th>Country</th>\n",
       "      <th>Coffee type</th>\n",
       "      <th>year</th>\n",
       "      <th>production</th>\n",
       "    </tr>\n",
       "  </thead>\n",
       "  <tbody>\n",
       "    <tr>\n",
       "      <th>0</th>\n",
       "      <td>Angola</td>\n",
       "      <td>Robusta/Arabica</td>\n",
       "      <td>1990</td>\n",
       "      <td>3.000000e+06</td>\n",
       "    </tr>\n",
       "    <tr>\n",
       "      <th>1</th>\n",
       "      <td>Bolivia (Plurinational State of)</td>\n",
       "      <td>Arabica</td>\n",
       "      <td>1990</td>\n",
       "      <td>7.380000e+06</td>\n",
       "    </tr>\n",
       "    <tr>\n",
       "      <th>2</th>\n",
       "      <td>Brazil</td>\n",
       "      <td>Arabica/Robusta</td>\n",
       "      <td>1990</td>\n",
       "      <td>1.637160e+09</td>\n",
       "    </tr>\n",
       "    <tr>\n",
       "      <th>3</th>\n",
       "      <td>Burundi</td>\n",
       "      <td>Arabica/Robusta</td>\n",
       "      <td>1990</td>\n",
       "      <td>2.922000e+07</td>\n",
       "    </tr>\n",
       "    <tr>\n",
       "      <th>4</th>\n",
       "      <td>Ecuador</td>\n",
       "      <td>Arabica/Robusta</td>\n",
       "      <td>1990</td>\n",
       "      <td>9.024000e+07</td>\n",
       "    </tr>\n",
       "  </tbody>\n",
       "</table>\n",
       "</div>"
      ],
      "text/plain": [
       "                            Country      Coffee type  year    production\n",
       "0                            Angola  Robusta/Arabica  1990  3.000000e+06\n",
       "1  Bolivia (Plurinational State of)          Arabica  1990  7.380000e+06\n",
       "2                            Brazil  Arabica/Robusta  1990  1.637160e+09\n",
       "3                           Burundi  Arabica/Robusta  1990  2.922000e+07\n",
       "4                           Ecuador  Arabica/Robusta  1990  9.024000e+07"
      ]
     },
     "metadata": {},
     "output_type": "display_data"
    },
    {
     "data": {
      "text/html": [
       "<div>\n",
       "<style scoped>\n",
       "    .dataframe tbody tr th:only-of-type {\n",
       "        vertical-align: middle;\n",
       "    }\n",
       "\n",
       "    .dataframe tbody tr th {\n",
       "        vertical-align: top;\n",
       "    }\n",
       "\n",
       "    .dataframe thead th {\n",
       "        text-align: right;\n",
       "    }\n",
       "</style>\n",
       "<table border=\"1\" class=\"dataframe\">\n",
       "  <thead>\n",
       "    <tr style=\"text-align: right;\">\n",
       "      <th></th>\n",
       "      <th>Country</th>\n",
       "      <th>year</th>\n",
       "      <th>imp_consumption</th>\n",
       "    </tr>\n",
       "  </thead>\n",
       "  <tbody>\n",
       "    <tr>\n",
       "      <th>0</th>\n",
       "      <td>Austria</td>\n",
       "      <td>1990</td>\n",
       "      <td>80400000</td>\n",
       "    </tr>\n",
       "    <tr>\n",
       "      <th>1</th>\n",
       "      <td>Belgium</td>\n",
       "      <td>1990</td>\n",
       "      <td>0</td>\n",
       "    </tr>\n",
       "    <tr>\n",
       "      <th>2</th>\n",
       "      <td>Belgium/Luxembourg</td>\n",
       "      <td>1990</td>\n",
       "      <td>67440000</td>\n",
       "    </tr>\n",
       "    <tr>\n",
       "      <th>3</th>\n",
       "      <td>Bulgaria</td>\n",
       "      <td>1990</td>\n",
       "      <td>6120000</td>\n",
       "    </tr>\n",
       "    <tr>\n",
       "      <th>4</th>\n",
       "      <td>Croatia</td>\n",
       "      <td>1990</td>\n",
       "      <td>0</td>\n",
       "    </tr>\n",
       "  </tbody>\n",
       "</table>\n",
       "</div>"
      ],
      "text/plain": [
       "                 Country  year  imp_consumption\n",
       "0                Austria  1990         80400000\n",
       "1                Belgium  1990                0\n",
       "2     Belgium/Luxembourg  1990         67440000\n",
       "3               Bulgaria  1990          6120000\n",
       "4                Croatia  1990                0"
      ]
     },
     "metadata": {},
     "output_type": "display_data"
    }
   ],
   "source": [
    "coffee_dom_cons = coffee_dom_cons.melt(id_vars=['Country', 'Coffee type'], value_name='consumption', var_name='year')\n",
    "coffee_export = coffee_export.melt(id_vars=['Country'], value_name='export', var_name='year')\n",
    "coffee_import = coffee_import.melt(id_vars=['Country'], value_name='import', var_name='year')\n",
    "coffee_production = coffee_production.melt(id_vars=['Country', 'Coffee type'],value_name='production', var_name='year')\n",
    "coffee_importers_cons = coffee_importers_cons.melt(id_vars=['Country'], value_name='imp_consumption', var_name='year')\n",
    "coffee_dom_cons['year'] = coffee_dom_cons['year'].str.split('/').str[0]\n",
    "coffee_production['year'] = coffee_production['year'].str.split('/').str[0]\n",
    "\n",
    "print(coffee_dom_cons.shape)\n",
    "print(coffee_export.shape)\n",
    "print(coffee_import.shape)\n",
    "print(coffee_production.shape)\n",
    "print(coffee_importers_cons.shape)\n",
    "display(coffee_dom_cons.head())\n",
    "display(coffee_export.head())\n",
    "display(coffee_import.head())\n",
    "display(coffee_production.head())\n",
    "display(coffee_importers_cons.head())"
   ]
  },
  {
   "cell_type": "code",
   "execution_count": 244,
   "metadata": {},
   "outputs": [
    {
     "name": "stdout",
     "output_type": "stream",
     "text": [
      "(1050, 4)\n",
      "<class 'pandas.core.frame.DataFrame'>\n",
      "RangeIndex: 1050 entries, 0 to 1049\n",
      "Data columns (total 4 columns):\n",
      " #   Column           Non-Null Count  Dtype \n",
      "---  ------           --------------  ----- \n",
      " 0   Country          1050 non-null   object\n",
      " 1   year             1050 non-null   object\n",
      " 2   import           1050 non-null   int64 \n",
      " 3   imp_consumption  1050 non-null   int64 \n",
      "dtypes: int64(2), object(2)\n",
      "memory usage: 32.9+ KB\n",
      "None\n",
      "Country            0\n",
      "year               0\n",
      "import             0\n",
      "imp_consumption    0\n",
      "dtype: int64\n"
     ]
    },
    {
     "data": {
      "text/html": [
       "<div>\n",
       "<style scoped>\n",
       "    .dataframe tbody tr th:only-of-type {\n",
       "        vertical-align: middle;\n",
       "    }\n",
       "\n",
       "    .dataframe tbody tr th {\n",
       "        vertical-align: top;\n",
       "    }\n",
       "\n",
       "    .dataframe thead th {\n",
       "        text-align: right;\n",
       "    }\n",
       "</style>\n",
       "<table border=\"1\" class=\"dataframe\">\n",
       "  <thead>\n",
       "    <tr style=\"text-align: right;\">\n",
       "      <th></th>\n",
       "      <th>Country</th>\n",
       "      <th>Coffee type</th>\n",
       "      <th>year</th>\n",
       "      <th>consumption</th>\n",
       "      <th>production</th>\n",
       "    </tr>\n",
       "  </thead>\n",
       "  <tbody>\n",
       "    <tr>\n",
       "      <th>0</th>\n",
       "      <td>Angola</td>\n",
       "      <td>Robusta/Arabica</td>\n",
       "      <td>1990</td>\n",
       "      <td>1200000</td>\n",
       "      <td>3.000000e+06</td>\n",
       "    </tr>\n",
       "    <tr>\n",
       "      <th>1</th>\n",
       "      <td>Bolivia (Plurinational State of)</td>\n",
       "      <td>Arabica</td>\n",
       "      <td>1990</td>\n",
       "      <td>1500000</td>\n",
       "      <td>7.380000e+06</td>\n",
       "    </tr>\n",
       "    <tr>\n",
       "      <th>2</th>\n",
       "      <td>Brazil</td>\n",
       "      <td>Arabica/Robusta</td>\n",
       "      <td>1990</td>\n",
       "      <td>492000000</td>\n",
       "      <td>1.637160e+09</td>\n",
       "    </tr>\n",
       "    <tr>\n",
       "      <th>3</th>\n",
       "      <td>Burundi</td>\n",
       "      <td>Arabica/Robusta</td>\n",
       "      <td>1990</td>\n",
       "      <td>120000</td>\n",
       "      <td>2.922000e+07</td>\n",
       "    </tr>\n",
       "    <tr>\n",
       "      <th>4</th>\n",
       "      <td>Ecuador</td>\n",
       "      <td>Arabica/Robusta</td>\n",
       "      <td>1990</td>\n",
       "      <td>21000000</td>\n",
       "      <td>9.024000e+07</td>\n",
       "    </tr>\n",
       "  </tbody>\n",
       "</table>\n",
       "</div>"
      ],
      "text/plain": [
       "                            Country      Coffee type  year  consumption  \\\n",
       "0                            Angola  Robusta/Arabica  1990      1200000   \n",
       "1  Bolivia (Plurinational State of)          Arabica  1990      1500000   \n",
       "2                            Brazil  Arabica/Robusta  1990    492000000   \n",
       "3                           Burundi  Arabica/Robusta  1990       120000   \n",
       "4                           Ecuador  Arabica/Robusta  1990     21000000   \n",
       "\n",
       "     production  \n",
       "0  3.000000e+06  \n",
       "1  7.380000e+06  \n",
       "2  1.637160e+09  \n",
       "3  2.922000e+07  \n",
       "4  9.024000e+07  "
      ]
     },
     "metadata": {},
     "output_type": "display_data"
    }
   ],
   "source": [
    "dom_production = coffee_dom_cons.merge(coffee_production, on=['Country', 'Coffee type', 'year'], how='inner')\n",
    "dom_production_export = dom_production.merge(coffee_export, on=['Country', 'year'], how='inner')\n",
    "imp_impcons = coffee_import.merge(coffee_importers_cons, on=['Country', 'year'], how='inner')\n",
    "\n",
    "print(imp_impcons.shape)\n",
    "print(imp_impcons.info())\n",
    "print(imp_impcons.isnull().sum())\n",
    "display(dom_production.head())"
   ]
  },
  {
   "cell_type": "markdown",
   "metadata": {},
   "source": [
    "# Ideia do seu pai (Guigas)"
   ]
  },
  {
   "cell_type": "code",
   "execution_count": 245,
   "metadata": {},
   "outputs": [
    {
     "data": {
      "text/html": [
       "<div>\n",
       "<style scoped>\n",
       "    .dataframe tbody tr th:only-of-type {\n",
       "        vertical-align: middle;\n",
       "    }\n",
       "\n",
       "    .dataframe tbody tr th {\n",
       "        vertical-align: top;\n",
       "    }\n",
       "\n",
       "    .dataframe thead th {\n",
       "        text-align: right;\n",
       "    }\n",
       "</style>\n",
       "<table border=\"1\" class=\"dataframe\">\n",
       "  <thead>\n",
       "    <tr style=\"text-align: right;\">\n",
       "      <th></th>\n",
       "      <th>production</th>\n",
       "      <th>consumption</th>\n",
       "      <th>export</th>\n",
       "    </tr>\n",
       "    <tr>\n",
       "      <th>year</th>\n",
       "      <th></th>\n",
       "      <th></th>\n",
       "      <th></th>\n",
       "    </tr>\n",
       "  </thead>\n",
       "  <tbody>\n",
       "    <tr>\n",
       "      <th>1990</th>\n",
       "      <td>1.637160e+09</td>\n",
       "      <td>492000000</td>\n",
       "      <td>1016160000</td>\n",
       "    </tr>\n",
       "    <tr>\n",
       "      <th>1991</th>\n",
       "      <td>1.637580e+09</td>\n",
       "      <td>510000000</td>\n",
       "      <td>1270980000</td>\n",
       "    </tr>\n",
       "    <tr>\n",
       "      <th>1992</th>\n",
       "      <td>2.076180e+09</td>\n",
       "      <td>534000000</td>\n",
       "      <td>1127460000</td>\n",
       "    </tr>\n",
       "    <tr>\n",
       "      <th>1993</th>\n",
       "      <td>1.690020e+09</td>\n",
       "      <td>546000000</td>\n",
       "      <td>1070280000</td>\n",
       "    </tr>\n",
       "    <tr>\n",
       "      <th>1994</th>\n",
       "      <td>1.691520e+09</td>\n",
       "      <td>558000000</td>\n",
       "      <td>1036380000</td>\n",
       "    </tr>\n",
       "  </tbody>\n",
       "</table>\n",
       "</div>"
      ],
      "text/plain": [
       "        production  consumption      export\n",
       "year                                       \n",
       "1990  1.637160e+09    492000000  1016160000\n",
       "1991  1.637580e+09    510000000  1270980000\n",
       "1992  2.076180e+09    534000000  1127460000\n",
       "1993  1.690020e+09    546000000  1070280000\n",
       "1994  1.691520e+09    558000000  1036380000"
      ]
     },
     "execution_count": 245,
     "metadata": {},
     "output_type": "execute_result"
    }
   ],
   "source": [
    "df = pd.concat([coffee_production[coffee_production['Country'] == 'Brazil']['production'], coffee_dom_cons[coffee_dom_cons['Country'] == 'Brazil'][['year', 'consumption']], coffee_export[coffee_export['Country'] == 'Brazil']['export']], axis=1).set_index('year')\n",
    "\n",
    "df = df.iloc[:-1]\n",
    "df.head()"
   ]
  },
  {
   "cell_type": "code",
   "execution_count": 246,
   "metadata": {},
   "outputs": [
    {
     "data": {
      "application/vnd.plotly.v1+json": {
       "config": {
        "plotlyServerURL": "https://plot.ly"
       },
       "data": [
        {
         "hovertemplate": "variable=production<br>year=%{x}<br>value=%{y}<extra></extra>",
         "legendgroup": "production",
         "line": {
          "color": "#636efa",
          "dash": "solid"
         },
         "marker": {
          "symbol": "circle"
         },
         "mode": "lines",
         "name": "production",
         "orientation": "v",
         "showlegend": true,
         "type": "scatter",
         "x": [
          "1990",
          "1991",
          "1992",
          "1993",
          "1994",
          "1995",
          "1996",
          "1997",
          "1998",
          "1999",
          "2000",
          "2001",
          "2002",
          "2003",
          "2004",
          "2005",
          "2006",
          "2007",
          "2008",
          "2009",
          "2010",
          "2011",
          "2012",
          "2013",
          "2014",
          "2015",
          "2016",
          "2017",
          "2018",
          "2019"
         ],
         "xaxis": "x",
         "y": [
          1637160000,
          1637580000,
          2076180000,
          1690020000,
          1691520000,
          1083600000,
          1751820000,
          1568880000,
          2205660000,
          2854680000,
          1878600000,
          1881900000,
          2901120000,
          1732380000,
          2356860000,
          1975980000,
          2905920000,
          2334660000,
          3089460000,
          2638620000,
          3325680000,
          2915520000,
          3325080000,
          3281340000,
          3198300000,
          3172260000,
          3407280000,
          3164400000,
          3907860000,
          3492660000
         ],
         "yaxis": "y"
        },
        {
         "hovertemplate": "variable=export<br>year=%{x}<br>value=%{y}<extra></extra>",
         "legendgroup": "export",
         "line": {
          "color": "#EF553B",
          "dash": "solid"
         },
         "marker": {
          "symbol": "circle"
         },
         "mode": "lines",
         "name": "export",
         "orientation": "v",
         "showlegend": true,
         "type": "scatter",
         "x": [
          "1990",
          "1991",
          "1992",
          "1993",
          "1994",
          "1995",
          "1996",
          "1997",
          "1998",
          "1999",
          "2000",
          "2001",
          "2002",
          "2003",
          "2004",
          "2005",
          "2006",
          "2007",
          "2008",
          "2009",
          "2010",
          "2011",
          "2012",
          "2013",
          "2014",
          "2015",
          "2016",
          "2017",
          "2018",
          "2019"
         ],
         "xaxis": "x",
         "y": [
          1016160000,
          1270980000,
          1127460000,
          1070280000,
          1036380000,
          868080000,
          915060000,
          1008060000,
          1088640000,
          1388940000,
          1080960000,
          1390320000,
          1678920000,
          1542660000,
          1588680000,
          1571880000,
          1642140000,
          1691040000,
          1770600000,
          1822680000,
          1990020000,
          2028360000,
          1712940000,
          1899060000,
          -2147483648,
          -2147483648,
          2056140000,
          1855500000,
          2138220000,
          -2147483648
         ],
         "yaxis": "y"
        }
       ],
       "layout": {
        "legend": {
         "title": {
          "text": "variable"
         },
         "tracegroupgap": 0
        },
        "margin": {
         "t": 60
        },
        "template": {
         "data": {
          "bar": [
           {
            "error_x": {
             "color": "#f2f5fa"
            },
            "error_y": {
             "color": "#f2f5fa"
            },
            "marker": {
             "line": {
              "color": "rgb(17,17,17)",
              "width": 0.5
             },
             "pattern": {
              "fillmode": "overlay",
              "size": 10,
              "solidity": 0.2
             }
            },
            "type": "bar"
           }
          ],
          "barpolar": [
           {
            "marker": {
             "line": {
              "color": "rgb(17,17,17)",
              "width": 0.5
             },
             "pattern": {
              "fillmode": "overlay",
              "size": 10,
              "solidity": 0.2
             }
            },
            "type": "barpolar"
           }
          ],
          "carpet": [
           {
            "aaxis": {
             "endlinecolor": "#A2B1C6",
             "gridcolor": "#506784",
             "linecolor": "#506784",
             "minorgridcolor": "#506784",
             "startlinecolor": "#A2B1C6"
            },
            "baxis": {
             "endlinecolor": "#A2B1C6",
             "gridcolor": "#506784",
             "linecolor": "#506784",
             "minorgridcolor": "#506784",
             "startlinecolor": "#A2B1C6"
            },
            "type": "carpet"
           }
          ],
          "choropleth": [
           {
            "colorbar": {
             "outlinewidth": 0,
             "ticks": ""
            },
            "type": "choropleth"
           }
          ],
          "contour": [
           {
            "colorbar": {
             "outlinewidth": 0,
             "ticks": ""
            },
            "colorscale": [
             [
              0,
              "#0d0887"
             ],
             [
              0.1111111111111111,
              "#46039f"
             ],
             [
              0.2222222222222222,
              "#7201a8"
             ],
             [
              0.3333333333333333,
              "#9c179e"
             ],
             [
              0.4444444444444444,
              "#bd3786"
             ],
             [
              0.5555555555555556,
              "#d8576b"
             ],
             [
              0.6666666666666666,
              "#ed7953"
             ],
             [
              0.7777777777777778,
              "#fb9f3a"
             ],
             [
              0.8888888888888888,
              "#fdca26"
             ],
             [
              1,
              "#f0f921"
             ]
            ],
            "type": "contour"
           }
          ],
          "contourcarpet": [
           {
            "colorbar": {
             "outlinewidth": 0,
             "ticks": ""
            },
            "type": "contourcarpet"
           }
          ],
          "heatmap": [
           {
            "colorbar": {
             "outlinewidth": 0,
             "ticks": ""
            },
            "colorscale": [
             [
              0,
              "#0d0887"
             ],
             [
              0.1111111111111111,
              "#46039f"
             ],
             [
              0.2222222222222222,
              "#7201a8"
             ],
             [
              0.3333333333333333,
              "#9c179e"
             ],
             [
              0.4444444444444444,
              "#bd3786"
             ],
             [
              0.5555555555555556,
              "#d8576b"
             ],
             [
              0.6666666666666666,
              "#ed7953"
             ],
             [
              0.7777777777777778,
              "#fb9f3a"
             ],
             [
              0.8888888888888888,
              "#fdca26"
             ],
             [
              1,
              "#f0f921"
             ]
            ],
            "type": "heatmap"
           }
          ],
          "heatmapgl": [
           {
            "colorbar": {
             "outlinewidth": 0,
             "ticks": ""
            },
            "colorscale": [
             [
              0,
              "#0d0887"
             ],
             [
              0.1111111111111111,
              "#46039f"
             ],
             [
              0.2222222222222222,
              "#7201a8"
             ],
             [
              0.3333333333333333,
              "#9c179e"
             ],
             [
              0.4444444444444444,
              "#bd3786"
             ],
             [
              0.5555555555555556,
              "#d8576b"
             ],
             [
              0.6666666666666666,
              "#ed7953"
             ],
             [
              0.7777777777777778,
              "#fb9f3a"
             ],
             [
              0.8888888888888888,
              "#fdca26"
             ],
             [
              1,
              "#f0f921"
             ]
            ],
            "type": "heatmapgl"
           }
          ],
          "histogram": [
           {
            "marker": {
             "pattern": {
              "fillmode": "overlay",
              "size": 10,
              "solidity": 0.2
             }
            },
            "type": "histogram"
           }
          ],
          "histogram2d": [
           {
            "colorbar": {
             "outlinewidth": 0,
             "ticks": ""
            },
            "colorscale": [
             [
              0,
              "#0d0887"
             ],
             [
              0.1111111111111111,
              "#46039f"
             ],
             [
              0.2222222222222222,
              "#7201a8"
             ],
             [
              0.3333333333333333,
              "#9c179e"
             ],
             [
              0.4444444444444444,
              "#bd3786"
             ],
             [
              0.5555555555555556,
              "#d8576b"
             ],
             [
              0.6666666666666666,
              "#ed7953"
             ],
             [
              0.7777777777777778,
              "#fb9f3a"
             ],
             [
              0.8888888888888888,
              "#fdca26"
             ],
             [
              1,
              "#f0f921"
             ]
            ],
            "type": "histogram2d"
           }
          ],
          "histogram2dcontour": [
           {
            "colorbar": {
             "outlinewidth": 0,
             "ticks": ""
            },
            "colorscale": [
             [
              0,
              "#0d0887"
             ],
             [
              0.1111111111111111,
              "#46039f"
             ],
             [
              0.2222222222222222,
              "#7201a8"
             ],
             [
              0.3333333333333333,
              "#9c179e"
             ],
             [
              0.4444444444444444,
              "#bd3786"
             ],
             [
              0.5555555555555556,
              "#d8576b"
             ],
             [
              0.6666666666666666,
              "#ed7953"
             ],
             [
              0.7777777777777778,
              "#fb9f3a"
             ],
             [
              0.8888888888888888,
              "#fdca26"
             ],
             [
              1,
              "#f0f921"
             ]
            ],
            "type": "histogram2dcontour"
           }
          ],
          "mesh3d": [
           {
            "colorbar": {
             "outlinewidth": 0,
             "ticks": ""
            },
            "type": "mesh3d"
           }
          ],
          "parcoords": [
           {
            "line": {
             "colorbar": {
              "outlinewidth": 0,
              "ticks": ""
             }
            },
            "type": "parcoords"
           }
          ],
          "pie": [
           {
            "automargin": true,
            "type": "pie"
           }
          ],
          "scatter": [
           {
            "marker": {
             "line": {
              "color": "#283442"
             }
            },
            "type": "scatter"
           }
          ],
          "scatter3d": [
           {
            "line": {
             "colorbar": {
              "outlinewidth": 0,
              "ticks": ""
             }
            },
            "marker": {
             "colorbar": {
              "outlinewidth": 0,
              "ticks": ""
             }
            },
            "type": "scatter3d"
           }
          ],
          "scattercarpet": [
           {
            "marker": {
             "colorbar": {
              "outlinewidth": 0,
              "ticks": ""
             }
            },
            "type": "scattercarpet"
           }
          ],
          "scattergeo": [
           {
            "marker": {
             "colorbar": {
              "outlinewidth": 0,
              "ticks": ""
             }
            },
            "type": "scattergeo"
           }
          ],
          "scattergl": [
           {
            "marker": {
             "line": {
              "color": "#283442"
             }
            },
            "type": "scattergl"
           }
          ],
          "scattermapbox": [
           {
            "marker": {
             "colorbar": {
              "outlinewidth": 0,
              "ticks": ""
             }
            },
            "type": "scattermapbox"
           }
          ],
          "scatterpolar": [
           {
            "marker": {
             "colorbar": {
              "outlinewidth": 0,
              "ticks": ""
             }
            },
            "type": "scatterpolar"
           }
          ],
          "scatterpolargl": [
           {
            "marker": {
             "colorbar": {
              "outlinewidth": 0,
              "ticks": ""
             }
            },
            "type": "scatterpolargl"
           }
          ],
          "scatterternary": [
           {
            "marker": {
             "colorbar": {
              "outlinewidth": 0,
              "ticks": ""
             }
            },
            "type": "scatterternary"
           }
          ],
          "surface": [
           {
            "colorbar": {
             "outlinewidth": 0,
             "ticks": ""
            },
            "colorscale": [
             [
              0,
              "#0d0887"
             ],
             [
              0.1111111111111111,
              "#46039f"
             ],
             [
              0.2222222222222222,
              "#7201a8"
             ],
             [
              0.3333333333333333,
              "#9c179e"
             ],
             [
              0.4444444444444444,
              "#bd3786"
             ],
             [
              0.5555555555555556,
              "#d8576b"
             ],
             [
              0.6666666666666666,
              "#ed7953"
             ],
             [
              0.7777777777777778,
              "#fb9f3a"
             ],
             [
              0.8888888888888888,
              "#fdca26"
             ],
             [
              1,
              "#f0f921"
             ]
            ],
            "type": "surface"
           }
          ],
          "table": [
           {
            "cells": {
             "fill": {
              "color": "#506784"
             },
             "line": {
              "color": "rgb(17,17,17)"
             }
            },
            "header": {
             "fill": {
              "color": "#2a3f5f"
             },
             "line": {
              "color": "rgb(17,17,17)"
             }
            },
            "type": "table"
           }
          ]
         },
         "layout": {
          "annotationdefaults": {
           "arrowcolor": "#f2f5fa",
           "arrowhead": 0,
           "arrowwidth": 1
          },
          "autotypenumbers": "strict",
          "coloraxis": {
           "colorbar": {
            "outlinewidth": 0,
            "ticks": ""
           }
          },
          "colorscale": {
           "diverging": [
            [
             0,
             "#8e0152"
            ],
            [
             0.1,
             "#c51b7d"
            ],
            [
             0.2,
             "#de77ae"
            ],
            [
             0.3,
             "#f1b6da"
            ],
            [
             0.4,
             "#fde0ef"
            ],
            [
             0.5,
             "#f7f7f7"
            ],
            [
             0.6,
             "#e6f5d0"
            ],
            [
             0.7,
             "#b8e186"
            ],
            [
             0.8,
             "#7fbc41"
            ],
            [
             0.9,
             "#4d9221"
            ],
            [
             1,
             "#276419"
            ]
           ],
           "sequential": [
            [
             0,
             "#0d0887"
            ],
            [
             0.1111111111111111,
             "#46039f"
            ],
            [
             0.2222222222222222,
             "#7201a8"
            ],
            [
             0.3333333333333333,
             "#9c179e"
            ],
            [
             0.4444444444444444,
             "#bd3786"
            ],
            [
             0.5555555555555556,
             "#d8576b"
            ],
            [
             0.6666666666666666,
             "#ed7953"
            ],
            [
             0.7777777777777778,
             "#fb9f3a"
            ],
            [
             0.8888888888888888,
             "#fdca26"
            ],
            [
             1,
             "#f0f921"
            ]
           ],
           "sequentialminus": [
            [
             0,
             "#0d0887"
            ],
            [
             0.1111111111111111,
             "#46039f"
            ],
            [
             0.2222222222222222,
             "#7201a8"
            ],
            [
             0.3333333333333333,
             "#9c179e"
            ],
            [
             0.4444444444444444,
             "#bd3786"
            ],
            [
             0.5555555555555556,
             "#d8576b"
            ],
            [
             0.6666666666666666,
             "#ed7953"
            ],
            [
             0.7777777777777778,
             "#fb9f3a"
            ],
            [
             0.8888888888888888,
             "#fdca26"
            ],
            [
             1,
             "#f0f921"
            ]
           ]
          },
          "colorway": [
           "#636efa",
           "#EF553B",
           "#00cc96",
           "#ab63fa",
           "#FFA15A",
           "#19d3f3",
           "#FF6692",
           "#B6E880",
           "#FF97FF",
           "#FECB52"
          ],
          "font": {
           "color": "#f2f5fa"
          },
          "geo": {
           "bgcolor": "rgb(17,17,17)",
           "lakecolor": "rgb(17,17,17)",
           "landcolor": "rgb(17,17,17)",
           "showlakes": true,
           "showland": true,
           "subunitcolor": "#506784"
          },
          "hoverlabel": {
           "align": "left"
          },
          "hovermode": "closest",
          "mapbox": {
           "style": "dark"
          },
          "paper_bgcolor": "rgb(17,17,17)",
          "plot_bgcolor": "rgb(17,17,17)",
          "polar": {
           "angularaxis": {
            "gridcolor": "#506784",
            "linecolor": "#506784",
            "ticks": ""
           },
           "bgcolor": "rgb(17,17,17)",
           "radialaxis": {
            "gridcolor": "#506784",
            "linecolor": "#506784",
            "ticks": ""
           }
          },
          "scene": {
           "xaxis": {
            "backgroundcolor": "rgb(17,17,17)",
            "gridcolor": "#506784",
            "gridwidth": 2,
            "linecolor": "#506784",
            "showbackground": true,
            "ticks": "",
            "zerolinecolor": "#C8D4E3"
           },
           "yaxis": {
            "backgroundcolor": "rgb(17,17,17)",
            "gridcolor": "#506784",
            "gridwidth": 2,
            "linecolor": "#506784",
            "showbackground": true,
            "ticks": "",
            "zerolinecolor": "#C8D4E3"
           },
           "zaxis": {
            "backgroundcolor": "rgb(17,17,17)",
            "gridcolor": "#506784",
            "gridwidth": 2,
            "linecolor": "#506784",
            "showbackground": true,
            "ticks": "",
            "zerolinecolor": "#C8D4E3"
           }
          },
          "shapedefaults": {
           "line": {
            "color": "#f2f5fa"
           }
          },
          "sliderdefaults": {
           "bgcolor": "#C8D4E3",
           "bordercolor": "rgb(17,17,17)",
           "borderwidth": 1,
           "tickwidth": 0
          },
          "ternary": {
           "aaxis": {
            "gridcolor": "#506784",
            "linecolor": "#506784",
            "ticks": ""
           },
           "baxis": {
            "gridcolor": "#506784",
            "linecolor": "#506784",
            "ticks": ""
           },
           "bgcolor": "rgb(17,17,17)",
           "caxis": {
            "gridcolor": "#506784",
            "linecolor": "#506784",
            "ticks": ""
           }
          },
          "title": {
           "x": 0.05
          },
          "updatemenudefaults": {
           "bgcolor": "#506784",
           "borderwidth": 0
          },
          "xaxis": {
           "automargin": true,
           "gridcolor": "#283442",
           "linecolor": "#506784",
           "ticks": "",
           "title": {
            "standoff": 15
           },
           "zerolinecolor": "#283442",
           "zerolinewidth": 2
          },
          "yaxis": {
           "automargin": true,
           "gridcolor": "#283442",
           "linecolor": "#506784",
           "ticks": "",
           "title": {
            "standoff": 15
           },
           "zerolinecolor": "#283442",
           "zerolinewidth": 2
          }
         }
        },
        "xaxis": {
         "anchor": "y",
         "domain": [
          0,
          1
         ],
         "title": {
          "text": "year"
         }
        },
        "yaxis": {
         "anchor": "x",
         "domain": [
          0,
          1
         ],
         "title": {
          "text": "value"
         }
        }
       }
      }
     },
     "metadata": {},
     "output_type": "display_data"
    }
   ],
   "source": [
    "px.line(df, x=df.index, y=['production', 'export'], template='plotly_dark')"
   ]
  },
  {
   "cell_type": "code",
   "execution_count": 247,
   "metadata": {},
   "outputs": [
    {
     "data": {
      "application/vnd.plotly.v1+json": {
       "config": {
        "plotlyServerURL": "https://plot.ly"
       },
       "data": [
        {
         "line": {
          "color": "green"
         },
         "mode": "lines",
         "type": "scatter",
         "x": [
          "1990",
          "1991",
          "1992",
          "1993",
          "1994",
          "1995",
          "1996",
          "1997",
          "1998",
          "1999",
          "2000",
          "2001",
          "2002",
          "2003",
          "2004",
          "2005",
          "2006",
          "2007",
          "2008",
          "2009",
          "2010",
          "2011",
          "2012",
          "2013",
          "2014",
          "2015",
          "2016",
          "2017",
          "2018",
          "2019"
         ],
         "y": [
          1637160000,
          1637580000,
          2076180000,
          1690020000,
          1691520000,
          1083600000,
          1751820000,
          1568880000,
          2205660000,
          2854680000,
          1878600000,
          1881900000,
          2901120000,
          1732380000,
          2356860000,
          1975980000,
          2905920000,
          2334660000,
          3089460000,
          2638620000,
          3325680000,
          2915520000,
          3325080000,
          3281340000,
          3198300000,
          3172260000,
          3407280000,
          3164400000,
          3907860000,
          3492660000
         ],
         "yaxis": "y"
        },
        {
         "line": {
          "color": "blue"
         },
         "mode": "lines",
         "type": "scatter",
         "x": [
          "1990",
          "1991",
          "1992",
          "1993",
          "1994",
          "1995",
          "1996",
          "1997",
          "1998",
          "1999",
          "2000",
          "2001",
          "2002",
          "2003",
          "2004",
          "2005",
          "2006",
          "2007",
          "2008",
          "2009",
          "2010",
          "2011",
          "2012",
          "2013",
          "2014",
          "2015",
          "2016",
          "2017",
          "2018",
          "2019"
         ],
         "y": [
          492000000,
          510000000,
          534000000,
          546000000,
          558000000,
          606000000,
          660000000,
          690000000,
          732000000,
          762000000,
          792000000,
          815400000,
          825000000,
          852000000,
          896760000,
          932280000,
          979860000,
          1026600000,
          1059600000,
          1103400000,
          1147920000,
          1183200000,
          1219800000,
          1205100000,
          1219980000,
          1230480000,
          1273500000,
          1319820000,
          1332000000,
          1320000000
         ],
         "yaxis": "y2"
        }
       ],
       "layout": {
        "showlegend": false,
        "template": {
         "data": {
          "bar": [
           {
            "error_x": {
             "color": "#f2f5fa"
            },
            "error_y": {
             "color": "#f2f5fa"
            },
            "marker": {
             "line": {
              "color": "rgb(17,17,17)",
              "width": 0.5
             },
             "pattern": {
              "fillmode": "overlay",
              "size": 10,
              "solidity": 0.2
             }
            },
            "type": "bar"
           }
          ],
          "barpolar": [
           {
            "marker": {
             "line": {
              "color": "rgb(17,17,17)",
              "width": 0.5
             },
             "pattern": {
              "fillmode": "overlay",
              "size": 10,
              "solidity": 0.2
             }
            },
            "type": "barpolar"
           }
          ],
          "carpet": [
           {
            "aaxis": {
             "endlinecolor": "#A2B1C6",
             "gridcolor": "#506784",
             "linecolor": "#506784",
             "minorgridcolor": "#506784",
             "startlinecolor": "#A2B1C6"
            },
            "baxis": {
             "endlinecolor": "#A2B1C6",
             "gridcolor": "#506784",
             "linecolor": "#506784",
             "minorgridcolor": "#506784",
             "startlinecolor": "#A2B1C6"
            },
            "type": "carpet"
           }
          ],
          "choropleth": [
           {
            "colorbar": {
             "outlinewidth": 0,
             "ticks": ""
            },
            "type": "choropleth"
           }
          ],
          "contour": [
           {
            "colorbar": {
             "outlinewidth": 0,
             "ticks": ""
            },
            "colorscale": [
             [
              0,
              "#0d0887"
             ],
             [
              0.1111111111111111,
              "#46039f"
             ],
             [
              0.2222222222222222,
              "#7201a8"
             ],
             [
              0.3333333333333333,
              "#9c179e"
             ],
             [
              0.4444444444444444,
              "#bd3786"
             ],
             [
              0.5555555555555556,
              "#d8576b"
             ],
             [
              0.6666666666666666,
              "#ed7953"
             ],
             [
              0.7777777777777778,
              "#fb9f3a"
             ],
             [
              0.8888888888888888,
              "#fdca26"
             ],
             [
              1,
              "#f0f921"
             ]
            ],
            "type": "contour"
           }
          ],
          "contourcarpet": [
           {
            "colorbar": {
             "outlinewidth": 0,
             "ticks": ""
            },
            "type": "contourcarpet"
           }
          ],
          "heatmap": [
           {
            "colorbar": {
             "outlinewidth": 0,
             "ticks": ""
            },
            "colorscale": [
             [
              0,
              "#0d0887"
             ],
             [
              0.1111111111111111,
              "#46039f"
             ],
             [
              0.2222222222222222,
              "#7201a8"
             ],
             [
              0.3333333333333333,
              "#9c179e"
             ],
             [
              0.4444444444444444,
              "#bd3786"
             ],
             [
              0.5555555555555556,
              "#d8576b"
             ],
             [
              0.6666666666666666,
              "#ed7953"
             ],
             [
              0.7777777777777778,
              "#fb9f3a"
             ],
             [
              0.8888888888888888,
              "#fdca26"
             ],
             [
              1,
              "#f0f921"
             ]
            ],
            "type": "heatmap"
           }
          ],
          "heatmapgl": [
           {
            "colorbar": {
             "outlinewidth": 0,
             "ticks": ""
            },
            "colorscale": [
             [
              0,
              "#0d0887"
             ],
             [
              0.1111111111111111,
              "#46039f"
             ],
             [
              0.2222222222222222,
              "#7201a8"
             ],
             [
              0.3333333333333333,
              "#9c179e"
             ],
             [
              0.4444444444444444,
              "#bd3786"
             ],
             [
              0.5555555555555556,
              "#d8576b"
             ],
             [
              0.6666666666666666,
              "#ed7953"
             ],
             [
              0.7777777777777778,
              "#fb9f3a"
             ],
             [
              0.8888888888888888,
              "#fdca26"
             ],
             [
              1,
              "#f0f921"
             ]
            ],
            "type": "heatmapgl"
           }
          ],
          "histogram": [
           {
            "marker": {
             "pattern": {
              "fillmode": "overlay",
              "size": 10,
              "solidity": 0.2
             }
            },
            "type": "histogram"
           }
          ],
          "histogram2d": [
           {
            "colorbar": {
             "outlinewidth": 0,
             "ticks": ""
            },
            "colorscale": [
             [
              0,
              "#0d0887"
             ],
             [
              0.1111111111111111,
              "#46039f"
             ],
             [
              0.2222222222222222,
              "#7201a8"
             ],
             [
              0.3333333333333333,
              "#9c179e"
             ],
             [
              0.4444444444444444,
              "#bd3786"
             ],
             [
              0.5555555555555556,
              "#d8576b"
             ],
             [
              0.6666666666666666,
              "#ed7953"
             ],
             [
              0.7777777777777778,
              "#fb9f3a"
             ],
             [
              0.8888888888888888,
              "#fdca26"
             ],
             [
              1,
              "#f0f921"
             ]
            ],
            "type": "histogram2d"
           }
          ],
          "histogram2dcontour": [
           {
            "colorbar": {
             "outlinewidth": 0,
             "ticks": ""
            },
            "colorscale": [
             [
              0,
              "#0d0887"
             ],
             [
              0.1111111111111111,
              "#46039f"
             ],
             [
              0.2222222222222222,
              "#7201a8"
             ],
             [
              0.3333333333333333,
              "#9c179e"
             ],
             [
              0.4444444444444444,
              "#bd3786"
             ],
             [
              0.5555555555555556,
              "#d8576b"
             ],
             [
              0.6666666666666666,
              "#ed7953"
             ],
             [
              0.7777777777777778,
              "#fb9f3a"
             ],
             [
              0.8888888888888888,
              "#fdca26"
             ],
             [
              1,
              "#f0f921"
             ]
            ],
            "type": "histogram2dcontour"
           }
          ],
          "mesh3d": [
           {
            "colorbar": {
             "outlinewidth": 0,
             "ticks": ""
            },
            "type": "mesh3d"
           }
          ],
          "parcoords": [
           {
            "line": {
             "colorbar": {
              "outlinewidth": 0,
              "ticks": ""
             }
            },
            "type": "parcoords"
           }
          ],
          "pie": [
           {
            "automargin": true,
            "type": "pie"
           }
          ],
          "scatter": [
           {
            "marker": {
             "line": {
              "color": "#283442"
             }
            },
            "type": "scatter"
           }
          ],
          "scatter3d": [
           {
            "line": {
             "colorbar": {
              "outlinewidth": 0,
              "ticks": ""
             }
            },
            "marker": {
             "colorbar": {
              "outlinewidth": 0,
              "ticks": ""
             }
            },
            "type": "scatter3d"
           }
          ],
          "scattercarpet": [
           {
            "marker": {
             "colorbar": {
              "outlinewidth": 0,
              "ticks": ""
             }
            },
            "type": "scattercarpet"
           }
          ],
          "scattergeo": [
           {
            "marker": {
             "colorbar": {
              "outlinewidth": 0,
              "ticks": ""
             }
            },
            "type": "scattergeo"
           }
          ],
          "scattergl": [
           {
            "marker": {
             "line": {
              "color": "#283442"
             }
            },
            "type": "scattergl"
           }
          ],
          "scattermapbox": [
           {
            "marker": {
             "colorbar": {
              "outlinewidth": 0,
              "ticks": ""
             }
            },
            "type": "scattermapbox"
           }
          ],
          "scatterpolar": [
           {
            "marker": {
             "colorbar": {
              "outlinewidth": 0,
              "ticks": ""
             }
            },
            "type": "scatterpolar"
           }
          ],
          "scatterpolargl": [
           {
            "marker": {
             "colorbar": {
              "outlinewidth": 0,
              "ticks": ""
             }
            },
            "type": "scatterpolargl"
           }
          ],
          "scatterternary": [
           {
            "marker": {
             "colorbar": {
              "outlinewidth": 0,
              "ticks": ""
             }
            },
            "type": "scatterternary"
           }
          ],
          "surface": [
           {
            "colorbar": {
             "outlinewidth": 0,
             "ticks": ""
            },
            "colorscale": [
             [
              0,
              "#0d0887"
             ],
             [
              0.1111111111111111,
              "#46039f"
             ],
             [
              0.2222222222222222,
              "#7201a8"
             ],
             [
              0.3333333333333333,
              "#9c179e"
             ],
             [
              0.4444444444444444,
              "#bd3786"
             ],
             [
              0.5555555555555556,
              "#d8576b"
             ],
             [
              0.6666666666666666,
              "#ed7953"
             ],
             [
              0.7777777777777778,
              "#fb9f3a"
             ],
             [
              0.8888888888888888,
              "#fdca26"
             ],
             [
              1,
              "#f0f921"
             ]
            ],
            "type": "surface"
           }
          ],
          "table": [
           {
            "cells": {
             "fill": {
              "color": "#506784"
             },
             "line": {
              "color": "rgb(17,17,17)"
             }
            },
            "header": {
             "fill": {
              "color": "#2a3f5f"
             },
             "line": {
              "color": "rgb(17,17,17)"
             }
            },
            "type": "table"
           }
          ]
         },
         "layout": {
          "annotationdefaults": {
           "arrowcolor": "#f2f5fa",
           "arrowhead": 0,
           "arrowwidth": 1
          },
          "autotypenumbers": "strict",
          "coloraxis": {
           "colorbar": {
            "outlinewidth": 0,
            "ticks": ""
           }
          },
          "colorscale": {
           "diverging": [
            [
             0,
             "#8e0152"
            ],
            [
             0.1,
             "#c51b7d"
            ],
            [
             0.2,
             "#de77ae"
            ],
            [
             0.3,
             "#f1b6da"
            ],
            [
             0.4,
             "#fde0ef"
            ],
            [
             0.5,
             "#f7f7f7"
            ],
            [
             0.6,
             "#e6f5d0"
            ],
            [
             0.7,
             "#b8e186"
            ],
            [
             0.8,
             "#7fbc41"
            ],
            [
             0.9,
             "#4d9221"
            ],
            [
             1,
             "#276419"
            ]
           ],
           "sequential": [
            [
             0,
             "#0d0887"
            ],
            [
             0.1111111111111111,
             "#46039f"
            ],
            [
             0.2222222222222222,
             "#7201a8"
            ],
            [
             0.3333333333333333,
             "#9c179e"
            ],
            [
             0.4444444444444444,
             "#bd3786"
            ],
            [
             0.5555555555555556,
             "#d8576b"
            ],
            [
             0.6666666666666666,
             "#ed7953"
            ],
            [
             0.7777777777777778,
             "#fb9f3a"
            ],
            [
             0.8888888888888888,
             "#fdca26"
            ],
            [
             1,
             "#f0f921"
            ]
           ],
           "sequentialminus": [
            [
             0,
             "#0d0887"
            ],
            [
             0.1111111111111111,
             "#46039f"
            ],
            [
             0.2222222222222222,
             "#7201a8"
            ],
            [
             0.3333333333333333,
             "#9c179e"
            ],
            [
             0.4444444444444444,
             "#bd3786"
            ],
            [
             0.5555555555555556,
             "#d8576b"
            ],
            [
             0.6666666666666666,
             "#ed7953"
            ],
            [
             0.7777777777777778,
             "#fb9f3a"
            ],
            [
             0.8888888888888888,
             "#fdca26"
            ],
            [
             1,
             "#f0f921"
            ]
           ]
          },
          "colorway": [
           "#636efa",
           "#EF553B",
           "#00cc96",
           "#ab63fa",
           "#FFA15A",
           "#19d3f3",
           "#FF6692",
           "#B6E880",
           "#FF97FF",
           "#FECB52"
          ],
          "font": {
           "color": "#f2f5fa"
          },
          "geo": {
           "bgcolor": "rgb(17,17,17)",
           "lakecolor": "rgb(17,17,17)",
           "landcolor": "rgb(17,17,17)",
           "showlakes": true,
           "showland": true,
           "subunitcolor": "#506784"
          },
          "hoverlabel": {
           "align": "left"
          },
          "hovermode": "closest",
          "mapbox": {
           "style": "dark"
          },
          "paper_bgcolor": "rgb(17,17,17)",
          "plot_bgcolor": "rgb(17,17,17)",
          "polar": {
           "angularaxis": {
            "gridcolor": "#506784",
            "linecolor": "#506784",
            "ticks": ""
           },
           "bgcolor": "rgb(17,17,17)",
           "radialaxis": {
            "gridcolor": "#506784",
            "linecolor": "#506784",
            "ticks": ""
           }
          },
          "scene": {
           "xaxis": {
            "backgroundcolor": "rgb(17,17,17)",
            "gridcolor": "#506784",
            "gridwidth": 2,
            "linecolor": "#506784",
            "showbackground": true,
            "ticks": "",
            "zerolinecolor": "#C8D4E3"
           },
           "yaxis": {
            "backgroundcolor": "rgb(17,17,17)",
            "gridcolor": "#506784",
            "gridwidth": 2,
            "linecolor": "#506784",
            "showbackground": true,
            "ticks": "",
            "zerolinecolor": "#C8D4E3"
           },
           "zaxis": {
            "backgroundcolor": "rgb(17,17,17)",
            "gridcolor": "#506784",
            "gridwidth": 2,
            "linecolor": "#506784",
            "showbackground": true,
            "ticks": "",
            "zerolinecolor": "#C8D4E3"
           }
          },
          "shapedefaults": {
           "line": {
            "color": "#f2f5fa"
           }
          },
          "sliderdefaults": {
           "bgcolor": "#C8D4E3",
           "bordercolor": "rgb(17,17,17)",
           "borderwidth": 1,
           "tickwidth": 0
          },
          "ternary": {
           "aaxis": {
            "gridcolor": "#506784",
            "linecolor": "#506784",
            "ticks": ""
           },
           "baxis": {
            "gridcolor": "#506784",
            "linecolor": "#506784",
            "ticks": ""
           },
           "bgcolor": "rgb(17,17,17)",
           "caxis": {
            "gridcolor": "#506784",
            "linecolor": "#506784",
            "ticks": ""
           }
          },
          "title": {
           "x": 0.05
          },
          "updatemenudefaults": {
           "bgcolor": "#506784",
           "borderwidth": 0
          },
          "xaxis": {
           "automargin": true,
           "gridcolor": "#283442",
           "linecolor": "#506784",
           "ticks": "",
           "title": {
            "standoff": 15
           },
           "zerolinecolor": "#283442",
           "zerolinewidth": 2
          },
          "yaxis": {
           "automargin": true,
           "gridcolor": "#283442",
           "linecolor": "#506784",
           "ticks": "",
           "title": {
            "standoff": 15
           },
           "zerolinecolor": "#283442",
           "zerolinewidth": 2
          }
         }
        },
        "title": {
         "text": "Produção X Consumo",
         "x": 0.5
        },
        "xaxis": {
         "title": {
          "text": "Ano"
         }
        },
        "yaxis": {
         "color": "green",
         "side": "left",
         "title": {
          "text": "Produção"
         }
        },
        "yaxis2": {
         "color": "blue",
         "overlaying": "y",
         "side": "right",
         "title": {
          "text": "Consumo"
         }
        }
       }
      }
     },
     "metadata": {},
     "output_type": "display_data"
    }
   ],
   "source": [
    "producao = go.Scatter(x=df.index, y=df['production'], mode='lines', yaxis='y1', line_color='green')\n",
    "consumo = go.Scatter(x=df.index, y=df['consumption'], mode='lines', yaxis='y2', line_color='blue')\n",
    "\n",
    "# Definindo as configurações dos eixos y\n",
    "layout = go.Layout(\n",
    "    yaxis1=dict(\n",
    "        title='Produção',\n",
    "        side='left',\n",
    "        color='green'\n",
    "    ),\n",
    "    yaxis2=dict(\n",
    "        title='Consumo',\n",
    "        side='right',\n",
    "        overlaying='y',\n",
    "        color='blue'\n",
    "    )\n",
    ")\n",
    "\n",
    "fig = go.Figure(data=[producao, consumo], layout=layout)\n",
    "\n",
    "fig.update_layout(title=\"Produção X Consumo\", title_x=0.5, xaxis_title=\"Ano\", showlegend=False, template='plotly_dark')\n",
    "fig.show()"
   ]
  },
  {
   "cell_type": "markdown",
   "metadata": {},
   "source": [
    "# Ideia Vitor\n",
    "\n",
    "A ideia é verificar quais são os 10 principais países de exportação, de importação, de importação-consumo e de consumo doméstico ao longo dos anos. (vitor)\n"
   ]
  },
  {
   "cell_type": "code",
   "execution_count": 248,
   "metadata": {},
   "outputs": [],
   "source": [
    "# Selecionar e ordenar os 10 países em ordem decrescente.\n",
    "\n",
    "coffee_export_sorted = coffee_export.sort_values(by= \"export\", ascending=False).head(10)\n",
    "coffee_import_sorted = coffee_import.sort_values(by = \"import\", ascending=False).head(10)\n",
    "coffee_importers_cons_sorted = coffee_importers_cons.sort_values(by = \"imp_consumption\",ascending=False).head(10)\n",
    "coffee_dom_cons_sorted= coffee_dom_cons[coffee_dom_cons['year'] == 'Total_domestic_consumption'].sort_values(by = \"consumption\", ascending= False).head(10)"
   ]
  },
  {
   "cell_type": "code",
   "execution_count": 249,
   "metadata": {},
   "outputs": [
    {
     "data": {
      "application/vnd.plotly.v1+json": {
       "config": {
        "plotlyServerURL": "https://plot.ly"
       },
       "data": [
        {
         "name": "Total Exportadores",
         "orientation": "h",
         "type": "bar",
         "x": [
          33807709056,
          24924480000,
          19878480000,
          10607940000,
          6933960000,
          6464340000,
          5964840000,
          5632200000,
          5628000000,
          4903920000
         ],
         "xaxis": "x",
         "y": [
          "Brazil",
          "Viet Nam",
          "Colombia",
          "Indonesia",
          "India",
          "Guatemala",
          "Honduras",
          "Uganda",
          "Mexico",
          "Peru"
         ],
         "yaxis": "y"
        },
        {
         "name": "Total Importadores",
         "orientation": "h",
         "type": "bar",
         "x": [
          42507660000,
          31481400000,
          13272120000,
          12422760000,
          11972520000,
          7840620000,
          6731460000,
          6240540000,
          5951400000,
          5731080000
         ],
         "xaxis": "x2",
         "y": [
          "United States of America",
          "   Germany",
          "   Italy",
          "Japan",
          "   France",
          "   Spain",
          "United Kingdom",
          "   Belgium",
          "   Netherlands",
          "Russian Federation"
         ],
         "yaxis": "y2"
        },
        {
         "name": "Total Consumidores - Importadores",
         "orientation": "h",
         "type": "bar",
         "x": [
          37816800000,
          16767720000,
          12187140000,
          9904860000,
          9578940000,
          5530260000,
          5121240000,
          5002620000,
          3477180000,
          3289740000
         ],
         "xaxis": "x3",
         "y": [
          "United States of America",
          "   Germany",
          "Japan",
          "   France",
          "   Italy",
          "   Spain",
          "Russian Federation",
          "United Kingdom",
          "   Netherlands",
          "   Poland"
         ],
         "yaxis": "y3"
        },
        {
         "name": "Total Consumidores",
         "orientation": "h",
         "type": "bar",
         "x": [
          27824700000,
          4920480000,
          4536540000,
          3189660000,
          2807280000,
          2536776384,
          2386067999,
          2093460000,
          1920928320,
          1248600000
         ],
         "xaxis": "x4",
         "y": [
          "Brazil",
          "Indonesia",
          "Ethiopia",
          "Mexico",
          "Philippines",
          "Colombia",
          "Venezuela",
          "India",
          "Viet Nam",
          "Thailand"
         ],
         "yaxis": "y4"
        }
       ],
       "layout": {
        "annotations": [
         {
          "font": {
           "size": 16
          },
          "showarrow": false,
          "text": "Top 10 Exportadores",
          "x": 0.175,
          "xanchor": "center",
          "xref": "paper",
          "y": 1,
          "yanchor": "bottom",
          "yref": "paper"
         },
         {
          "font": {
           "size": 16
          },
          "showarrow": false,
          "text": "Top 10 Importadores",
          "x": 0.825,
          "xanchor": "center",
          "xref": "paper",
          "y": 1,
          "yanchor": "bottom",
          "yref": "paper"
         },
         {
          "font": {
           "size": 16
          },
          "showarrow": false,
          "text": "Top 10 Consumidores-Importadores",
          "x": 0.175,
          "xanchor": "center",
          "xref": "paper",
          "y": 0.375,
          "yanchor": "bottom",
          "yref": "paper"
         },
         {
          "font": {
           "size": 16
          },
          "showarrow": false,
          "text": "Top 10 Consumo Doméstico",
          "x": 0.825,
          "xanchor": "center",
          "xref": "paper",
          "y": 0.375,
          "yanchor": "bottom",
          "yref": "paper"
         }
        ],
        "height": 800,
        "showlegend": false,
        "template": {
         "data": {
          "bar": [
           {
            "error_x": {
             "color": "#f2f5fa"
            },
            "error_y": {
             "color": "#f2f5fa"
            },
            "marker": {
             "line": {
              "color": "rgb(17,17,17)",
              "width": 0.5
             },
             "pattern": {
              "fillmode": "overlay",
              "size": 10,
              "solidity": 0.2
             }
            },
            "type": "bar"
           }
          ],
          "barpolar": [
           {
            "marker": {
             "line": {
              "color": "rgb(17,17,17)",
              "width": 0.5
             },
             "pattern": {
              "fillmode": "overlay",
              "size": 10,
              "solidity": 0.2
             }
            },
            "type": "barpolar"
           }
          ],
          "carpet": [
           {
            "aaxis": {
             "endlinecolor": "#A2B1C6",
             "gridcolor": "#506784",
             "linecolor": "#506784",
             "minorgridcolor": "#506784",
             "startlinecolor": "#A2B1C6"
            },
            "baxis": {
             "endlinecolor": "#A2B1C6",
             "gridcolor": "#506784",
             "linecolor": "#506784",
             "minorgridcolor": "#506784",
             "startlinecolor": "#A2B1C6"
            },
            "type": "carpet"
           }
          ],
          "choropleth": [
           {
            "colorbar": {
             "outlinewidth": 0,
             "ticks": ""
            },
            "type": "choropleth"
           }
          ],
          "contour": [
           {
            "colorbar": {
             "outlinewidth": 0,
             "ticks": ""
            },
            "colorscale": [
             [
              0,
              "#0d0887"
             ],
             [
              0.1111111111111111,
              "#46039f"
             ],
             [
              0.2222222222222222,
              "#7201a8"
             ],
             [
              0.3333333333333333,
              "#9c179e"
             ],
             [
              0.4444444444444444,
              "#bd3786"
             ],
             [
              0.5555555555555556,
              "#d8576b"
             ],
             [
              0.6666666666666666,
              "#ed7953"
             ],
             [
              0.7777777777777778,
              "#fb9f3a"
             ],
             [
              0.8888888888888888,
              "#fdca26"
             ],
             [
              1,
              "#f0f921"
             ]
            ],
            "type": "contour"
           }
          ],
          "contourcarpet": [
           {
            "colorbar": {
             "outlinewidth": 0,
             "ticks": ""
            },
            "type": "contourcarpet"
           }
          ],
          "heatmap": [
           {
            "colorbar": {
             "outlinewidth": 0,
             "ticks": ""
            },
            "colorscale": [
             [
              0,
              "#0d0887"
             ],
             [
              0.1111111111111111,
              "#46039f"
             ],
             [
              0.2222222222222222,
              "#7201a8"
             ],
             [
              0.3333333333333333,
              "#9c179e"
             ],
             [
              0.4444444444444444,
              "#bd3786"
             ],
             [
              0.5555555555555556,
              "#d8576b"
             ],
             [
              0.6666666666666666,
              "#ed7953"
             ],
             [
              0.7777777777777778,
              "#fb9f3a"
             ],
             [
              0.8888888888888888,
              "#fdca26"
             ],
             [
              1,
              "#f0f921"
             ]
            ],
            "type": "heatmap"
           }
          ],
          "heatmapgl": [
           {
            "colorbar": {
             "outlinewidth": 0,
             "ticks": ""
            },
            "colorscale": [
             [
              0,
              "#0d0887"
             ],
             [
              0.1111111111111111,
              "#46039f"
             ],
             [
              0.2222222222222222,
              "#7201a8"
             ],
             [
              0.3333333333333333,
              "#9c179e"
             ],
             [
              0.4444444444444444,
              "#bd3786"
             ],
             [
              0.5555555555555556,
              "#d8576b"
             ],
             [
              0.6666666666666666,
              "#ed7953"
             ],
             [
              0.7777777777777778,
              "#fb9f3a"
             ],
             [
              0.8888888888888888,
              "#fdca26"
             ],
             [
              1,
              "#f0f921"
             ]
            ],
            "type": "heatmapgl"
           }
          ],
          "histogram": [
           {
            "marker": {
             "pattern": {
              "fillmode": "overlay",
              "size": 10,
              "solidity": 0.2
             }
            },
            "type": "histogram"
           }
          ],
          "histogram2d": [
           {
            "colorbar": {
             "outlinewidth": 0,
             "ticks": ""
            },
            "colorscale": [
             [
              0,
              "#0d0887"
             ],
             [
              0.1111111111111111,
              "#46039f"
             ],
             [
              0.2222222222222222,
              "#7201a8"
             ],
             [
              0.3333333333333333,
              "#9c179e"
             ],
             [
              0.4444444444444444,
              "#bd3786"
             ],
             [
              0.5555555555555556,
              "#d8576b"
             ],
             [
              0.6666666666666666,
              "#ed7953"
             ],
             [
              0.7777777777777778,
              "#fb9f3a"
             ],
             [
              0.8888888888888888,
              "#fdca26"
             ],
             [
              1,
              "#f0f921"
             ]
            ],
            "type": "histogram2d"
           }
          ],
          "histogram2dcontour": [
           {
            "colorbar": {
             "outlinewidth": 0,
             "ticks": ""
            },
            "colorscale": [
             [
              0,
              "#0d0887"
             ],
             [
              0.1111111111111111,
              "#46039f"
             ],
             [
              0.2222222222222222,
              "#7201a8"
             ],
             [
              0.3333333333333333,
              "#9c179e"
             ],
             [
              0.4444444444444444,
              "#bd3786"
             ],
             [
              0.5555555555555556,
              "#d8576b"
             ],
             [
              0.6666666666666666,
              "#ed7953"
             ],
             [
              0.7777777777777778,
              "#fb9f3a"
             ],
             [
              0.8888888888888888,
              "#fdca26"
             ],
             [
              1,
              "#f0f921"
             ]
            ],
            "type": "histogram2dcontour"
           }
          ],
          "mesh3d": [
           {
            "colorbar": {
             "outlinewidth": 0,
             "ticks": ""
            },
            "type": "mesh3d"
           }
          ],
          "parcoords": [
           {
            "line": {
             "colorbar": {
              "outlinewidth": 0,
              "ticks": ""
             }
            },
            "type": "parcoords"
           }
          ],
          "pie": [
           {
            "automargin": true,
            "type": "pie"
           }
          ],
          "scatter": [
           {
            "marker": {
             "line": {
              "color": "#283442"
             }
            },
            "type": "scatter"
           }
          ],
          "scatter3d": [
           {
            "line": {
             "colorbar": {
              "outlinewidth": 0,
              "ticks": ""
             }
            },
            "marker": {
             "colorbar": {
              "outlinewidth": 0,
              "ticks": ""
             }
            },
            "type": "scatter3d"
           }
          ],
          "scattercarpet": [
           {
            "marker": {
             "colorbar": {
              "outlinewidth": 0,
              "ticks": ""
             }
            },
            "type": "scattercarpet"
           }
          ],
          "scattergeo": [
           {
            "marker": {
             "colorbar": {
              "outlinewidth": 0,
              "ticks": ""
             }
            },
            "type": "scattergeo"
           }
          ],
          "scattergl": [
           {
            "marker": {
             "line": {
              "color": "#283442"
             }
            },
            "type": "scattergl"
           }
          ],
          "scattermapbox": [
           {
            "marker": {
             "colorbar": {
              "outlinewidth": 0,
              "ticks": ""
             }
            },
            "type": "scattermapbox"
           }
          ],
          "scatterpolar": [
           {
            "marker": {
             "colorbar": {
              "outlinewidth": 0,
              "ticks": ""
             }
            },
            "type": "scatterpolar"
           }
          ],
          "scatterpolargl": [
           {
            "marker": {
             "colorbar": {
              "outlinewidth": 0,
              "ticks": ""
             }
            },
            "type": "scatterpolargl"
           }
          ],
          "scatterternary": [
           {
            "marker": {
             "colorbar": {
              "outlinewidth": 0,
              "ticks": ""
             }
            },
            "type": "scatterternary"
           }
          ],
          "surface": [
           {
            "colorbar": {
             "outlinewidth": 0,
             "ticks": ""
            },
            "colorscale": [
             [
              0,
              "#0d0887"
             ],
             [
              0.1111111111111111,
              "#46039f"
             ],
             [
              0.2222222222222222,
              "#7201a8"
             ],
             [
              0.3333333333333333,
              "#9c179e"
             ],
             [
              0.4444444444444444,
              "#bd3786"
             ],
             [
              0.5555555555555556,
              "#d8576b"
             ],
             [
              0.6666666666666666,
              "#ed7953"
             ],
             [
              0.7777777777777778,
              "#fb9f3a"
             ],
             [
              0.8888888888888888,
              "#fdca26"
             ],
             [
              1,
              "#f0f921"
             ]
            ],
            "type": "surface"
           }
          ],
          "table": [
           {
            "cells": {
             "fill": {
              "color": "#506784"
             },
             "line": {
              "color": "rgb(17,17,17)"
             }
            },
            "header": {
             "fill": {
              "color": "#2a3f5f"
             },
             "line": {
              "color": "rgb(17,17,17)"
             }
            },
            "type": "table"
           }
          ]
         },
         "layout": {
          "annotationdefaults": {
           "arrowcolor": "#f2f5fa",
           "arrowhead": 0,
           "arrowwidth": 1
          },
          "autotypenumbers": "strict",
          "coloraxis": {
           "colorbar": {
            "outlinewidth": 0,
            "ticks": ""
           }
          },
          "colorscale": {
           "diverging": [
            [
             0,
             "#8e0152"
            ],
            [
             0.1,
             "#c51b7d"
            ],
            [
             0.2,
             "#de77ae"
            ],
            [
             0.3,
             "#f1b6da"
            ],
            [
             0.4,
             "#fde0ef"
            ],
            [
             0.5,
             "#f7f7f7"
            ],
            [
             0.6,
             "#e6f5d0"
            ],
            [
             0.7,
             "#b8e186"
            ],
            [
             0.8,
             "#7fbc41"
            ],
            [
             0.9,
             "#4d9221"
            ],
            [
             1,
             "#276419"
            ]
           ],
           "sequential": [
            [
             0,
             "#0d0887"
            ],
            [
             0.1111111111111111,
             "#46039f"
            ],
            [
             0.2222222222222222,
             "#7201a8"
            ],
            [
             0.3333333333333333,
             "#9c179e"
            ],
            [
             0.4444444444444444,
             "#bd3786"
            ],
            [
             0.5555555555555556,
             "#d8576b"
            ],
            [
             0.6666666666666666,
             "#ed7953"
            ],
            [
             0.7777777777777778,
             "#fb9f3a"
            ],
            [
             0.8888888888888888,
             "#fdca26"
            ],
            [
             1,
             "#f0f921"
            ]
           ],
           "sequentialminus": [
            [
             0,
             "#0d0887"
            ],
            [
             0.1111111111111111,
             "#46039f"
            ],
            [
             0.2222222222222222,
             "#7201a8"
            ],
            [
             0.3333333333333333,
             "#9c179e"
            ],
            [
             0.4444444444444444,
             "#bd3786"
            ],
            [
             0.5555555555555556,
             "#d8576b"
            ],
            [
             0.6666666666666666,
             "#ed7953"
            ],
            [
             0.7777777777777778,
             "#fb9f3a"
            ],
            [
             0.8888888888888888,
             "#fdca26"
            ],
            [
             1,
             "#f0f921"
            ]
           ]
          },
          "colorway": [
           "#636efa",
           "#EF553B",
           "#00cc96",
           "#ab63fa",
           "#FFA15A",
           "#19d3f3",
           "#FF6692",
           "#B6E880",
           "#FF97FF",
           "#FECB52"
          ],
          "font": {
           "color": "#f2f5fa"
          },
          "geo": {
           "bgcolor": "rgb(17,17,17)",
           "lakecolor": "rgb(17,17,17)",
           "landcolor": "rgb(17,17,17)",
           "showlakes": true,
           "showland": true,
           "subunitcolor": "#506784"
          },
          "hoverlabel": {
           "align": "left"
          },
          "hovermode": "closest",
          "mapbox": {
           "style": "dark"
          },
          "paper_bgcolor": "rgb(17,17,17)",
          "plot_bgcolor": "rgb(17,17,17)",
          "polar": {
           "angularaxis": {
            "gridcolor": "#506784",
            "linecolor": "#506784",
            "ticks": ""
           },
           "bgcolor": "rgb(17,17,17)",
           "radialaxis": {
            "gridcolor": "#506784",
            "linecolor": "#506784",
            "ticks": ""
           }
          },
          "scene": {
           "xaxis": {
            "backgroundcolor": "rgb(17,17,17)",
            "gridcolor": "#506784",
            "gridwidth": 2,
            "linecolor": "#506784",
            "showbackground": true,
            "ticks": "",
            "zerolinecolor": "#C8D4E3"
           },
           "yaxis": {
            "backgroundcolor": "rgb(17,17,17)",
            "gridcolor": "#506784",
            "gridwidth": 2,
            "linecolor": "#506784",
            "showbackground": true,
            "ticks": "",
            "zerolinecolor": "#C8D4E3"
           },
           "zaxis": {
            "backgroundcolor": "rgb(17,17,17)",
            "gridcolor": "#506784",
            "gridwidth": 2,
            "linecolor": "#506784",
            "showbackground": true,
            "ticks": "",
            "zerolinecolor": "#C8D4E3"
           }
          },
          "shapedefaults": {
           "line": {
            "color": "#f2f5fa"
           }
          },
          "sliderdefaults": {
           "bgcolor": "#C8D4E3",
           "bordercolor": "rgb(17,17,17)",
           "borderwidth": 1,
           "tickwidth": 0
          },
          "ternary": {
           "aaxis": {
            "gridcolor": "#506784",
            "linecolor": "#506784",
            "ticks": ""
           },
           "baxis": {
            "gridcolor": "#506784",
            "linecolor": "#506784",
            "ticks": ""
           },
           "bgcolor": "rgb(17,17,17)",
           "caxis": {
            "gridcolor": "#506784",
            "linecolor": "#506784",
            "ticks": ""
           }
          },
          "title": {
           "x": 0.05
          },
          "updatemenudefaults": {
           "bgcolor": "#506784",
           "borderwidth": 0
          },
          "xaxis": {
           "automargin": true,
           "gridcolor": "#283442",
           "linecolor": "#506784",
           "ticks": "",
           "title": {
            "standoff": 15
           },
           "zerolinecolor": "#283442",
           "zerolinewidth": 2
          },
          "yaxis": {
           "automargin": true,
           "gridcolor": "#283442",
           "linecolor": "#506784",
           "ticks": "",
           "title": {
            "standoff": 15
           },
           "zerolinecolor": "#283442",
           "zerolinewidth": 2
          }
         }
        },
        "title": {
         "text": "Top 10 do Rank de café"
        },
        "width": 1000,
        "xaxis": {
         "anchor": "y",
         "domain": [
          0,
          0.35
         ]
        },
        "xaxis2": {
         "anchor": "y2",
         "domain": [
          0.6499999999999999,
          0.9999999999999999
         ]
        },
        "xaxis3": {
         "anchor": "y3",
         "domain": [
          0,
          0.35
         ]
        },
        "xaxis4": {
         "anchor": "y4",
         "domain": [
          0.6499999999999999,
          0.9999999999999999
         ]
        },
        "yaxis": {
         "anchor": "x",
         "autorange": "reversed",
         "domain": [
          0.625,
          1
         ]
        },
        "yaxis2": {
         "anchor": "x2",
         "autorange": "reversed",
         "domain": [
          0.625,
          1
         ]
        },
        "yaxis3": {
         "anchor": "x3",
         "autorange": "reversed",
         "domain": [
          0,
          0.375
         ]
        },
        "yaxis4": {
         "anchor": "x4",
         "autorange": "reversed",
         "domain": [
          0,
          0.375
         ]
        }
       }
      }
     },
     "metadata": {},
     "output_type": "display_data"
    }
   ],
   "source": [
    "# Visualização Gráfica\n",
    "\n",
    "fig = make_subplots(rows = 2, cols = 2,subplot_titles= [\"Top 10 Exportadores\",\"Top 10 Importadores\",\"Top 10 Consumidores-Importadores\", \"Top 10 Consumo Doméstico\"], horizontal_spacing= 0.3)\n",
    "\n",
    "def plot_grafico(fig, row, col, df,coluna,title):\n",
    "    fig.add_trace(go.Bar(y = df[\"Country\"], x = df[coluna], orientation= \"h\", name = title), row = row, col = col)\n",
    "    \n",
    "plot_grafico(fig,1,1, coffee_export_sorted,\"export\",\"Total Exportadores\")\n",
    "plot_grafico(fig,1,2, coffee_import_sorted,\"import\",\"Total Importadores\")\n",
    "plot_grafico(fig,2,1, coffee_importers_cons_sorted,\"imp_consumption\",\"Total Consumidores - Importadores\")\n",
    "plot_grafico(fig,2,2, coffee_dom_cons_sorted,\"consumption\",\"Total Consumidores\")\n",
    "fig.update_layout(title_text = \"Top 10 do Rank de café\",showlegend = False, width = 1000,height = 800, template='plotly_dark')\n",
    "fig.update_yaxes(autorange=\"reversed\")\n",
    "fig.show()\n"
   ]
  },
  {
   "cell_type": "markdown",
   "metadata": {},
   "source": [
    "O Brasil aparece em Exportadores e em Consumo Doméstico. A ideia é verificar, em %, a participação do país nesses dados.\n"
   ]
  },
  {
   "cell_type": "code",
   "execution_count": 250,
   "metadata": {},
   "outputs": [
    {
     "data": {
      "image/png": "[encoded data removed]",
      "text/plain": [
       "<Figure size 640x480 with 1 Axes>"
      ]
     },
     "metadata": {},
     "output_type": "display_data"
    }
   ],
   "source": [
    "# Gráfico de setor para Exportadores\n",
    "\n",
    "paises = ['Brazil', 'Viet Nam', 'Colombia', 'Indonesia', 'India', 'Guatemala', 'Honduras', 'Uganda', 'Mexico', 'Peru']\n",
    "valores = [33807709056, 24924480000, 19878480000, 10607940000, 6933960000, 6464340000, 5964840000, 5632200000, 5628000000, 4903920000]\n",
    "\n",
    "plt.pie(valores, labels=paises, autopct='%1.1f%%')\n",
    "plt.axis('equal')  \n",
    "plt.legend(fontsize = \"small\",bbox_to_anchor= (1,1))\n",
    "plt.title(\"Participação em Exportação\")\n",
    "\n",
    "plt.show()\n"
   ]
  },
  {
   "cell_type": "code",
   "execution_count": 251,
   "metadata": {},
   "outputs": [
    {
     "data": {
      "image/png": "[encoded data removed]",
      "text/plain": [
       "<Figure size 800x600 with 1 Axes>"
      ]
     },
     "metadata": {},
     "output_type": "display_data"
    }
   ],
   "source": [
    "# Gráfico de setor para Consumo Doméstico.\n",
    "\n",
    "paises = ['Brazil', 'Indonesia', 'Ethiopia', 'Mexico', 'Philippines', 'Colombia', 'Venezuela', 'India', 'Viet Nam', 'Thailand']\n",
    "consumo_domestico = [27824700000, 4920480000, 4536540000, 3189660000, 2807280000, 2536776384, 2386067999, 2093460000, 1920928320, 1248600000]\n",
    "\n",
    "plt.figure(figsize=(8, 6))\n",
    "plt.pie(consumo_domestico, labels=paises, autopct='%1.1f%%')\n",
    "plt.axis('equal')  \n",
    "plt.title('Participação no Consumo Doméstico de Café')\n",
    "plt.legend(fontsize = \"small\",bbox_to_anchor= (1,1))\n",
    "\n",
    "plt.show()\n",
    "\n"
   ]
  },
  {
   "cell_type": "markdown",
   "metadata": {},
   "source": [
    "# Pennini - Hipótese\n",
    "\n",
    "Os maiores produtores em média de café mundialmente exportam mais do que consomem"
   ]
  },
  {
   "cell_type": "code",
   "execution_count": 252,
   "metadata": {},
   "outputs": [],
   "source": [
    "dom_production_export['export'] = dom_production_export['export'].apply(lambda x: 0 if x < 0 else x)\n",
    "dom_production_export['consumption'] = dom_production_export['consumption'] / 1000\n",
    "dom_production_export['production'] = dom_production_export['production'] / 1000\n",
    "dom_production_export['export'] = dom_production_export['export'] / 1000\n",
    "\n",
    "maiores_produtores = dom_production_export.groupby('Country')['production'].mean().sort_values(ascending=False).head(6).index"
   ]
  },
  {
   "cell_type": "code",
   "execution_count": 253,
   "metadata": {},
   "outputs": [],
   "source": [
    "dom_production_export['year'] = dom_production_export['year'].astype(int)\n",
    "\n",
    "df_maiores = dom_production_export[dom_production_export['Country'].isin(maiores_produtores)]"
   ]
  },
  {
   "cell_type": "code",
   "execution_count": 254,
   "metadata": {},
   "outputs": [
    {
     "data": {
      "image/png": "[encoded data removed]",
      "text/plain": [
       "<Figure size 1800x600 with 6 Axes>"
      ]
     },
     "metadata": {},
     "output_type": "display_data"
    }
   ],
   "source": [
    "g = sns.relplot(data=df_maiores, x='year', y='consumption', kind='line', col='Country', col_wrap=3, facet_kws={'sharey': True}, height=3, aspect=2, label='consumption')\n",
    "\n",
    "for ax, country in zip(g.axes.flat, df_maiores['Country'].unique()):\n",
    "    df_country = df_maiores[df_maiores['Country'] == country]\n",
    "    sns.lineplot(data=df_country, x='year', y='production', ax=ax, color='red', label='production')\n",
    "    sns.lineplot(data=df_country, x='year', y='export', ax=ax, color='green', label='export')\n",
    "\n",
    "g.set_axis_labels('Ano', 'Consumo (toneladas)')\n",
    "g.set_titles('{col_name}')\n",
    "g.fig.suptitle('Consumo de café x Produção de Café dos maiores produtores', y=1.02)\n",
    "\n",
    "plt.show()"
   ]
  },
  {
   "cell_type": "markdown",
   "metadata": {},
   "source": [
    "## Análise\n",
    "\n",
    "A análise dos dados revela que os principais produtores de café estão predominantemente entre os países em desenvolvimento, com o Brasil ocupando a posição de destaque em todos os aspectos, incluindo consumo interno, exportação e produção ao longo do tempo. Uma observação dos gráficos sugere uma tendência comum entre os principais produtores de café: eles tendem a priorizar a exportação sobre o consumo interno, o que é evidenciado por uma correlação significativa entre os volumes exportados e a produção total.\n",
    "\n",
    "No entanto, uma exceção notável é o Brasil, onde a demanda interna por café é substancial. Isso se reflete em uma taxa de consumo doméstico mais elevada em comparação com outros países produtores. Como resultado, a quantidade exportada se posiciona ligeiramente abaixo da produção total, sugerindo uma preferência pelo consumo interno mais acentuada do que em outros países.\n",
    "\n",
    "Essa análise destaca não apenas as tendências globais no mercado de café, mas também as nuances específicas de cada país, como o caso distinto do Brasil em relação ao equilíbrio entre consumo interno e exportação."
   ]
  }
 ],
 "metadata": {
  "kernelspec": {
   "display_name": "Python 3",
   "language": "python",
   "name": "python3"
  },
  "language_info": {
   "codemirror_mode": {
    "name": "ipython",
    "version": 3
   },
   "file_extension": ".py",
   "mimetype": "text/x-python",
   "name": "python",
   "nbconvert_exporter": "python",
   "pygments_lexer": "ipython3",
   "version": "3.11.9"
  }
 },
 "nbformat": 4,
 "nbformat_minor": 2
}
